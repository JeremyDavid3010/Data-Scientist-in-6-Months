{
 "cells": [
  {
   "cell_type": "markdown",
   "id": "6725a34e-e6ba-45d6-81f2-137b887f802c",
   "metadata": {},
   "source": [
    "# Day 2 Dictionaries & Tuples"
   ]
  },
  {
   "cell_type": "code",
   "execution_count": 1,
   "id": "62f8d7fa-2d4b-47c3-8041-2e9881e1c886",
   "metadata": {},
   "outputs": [],
   "source": [
    "expenses = [1200,1400,1700] # This is an list"
   ]
  },
  {
   "cell_type": "code",
   "execution_count": 2,
   "id": "123d2957-bad5-4bc9-8fbb-183bc2ad4692",
   "metadata": {},
   "outputs": [],
   "source": [
    "#NOTE \n",
    "\n",
    "# List - []\n",
    "# Tuples - () \n",
    "# Dictionaries - {}\n",
    "\n",
    "# Difference between list and Tuple - Tuples are Immutable ie., we can change the values/elements in a tuple\n",
    "# But list is mutable ie., it is changable\n",
    "# Python list is an Dynamic array - Memory manaagement is little expensive\n",
    "# Tuples can be 3 dimensionsal \n",
    "# Dictionary has key-value pair"
   ]
  },
  {
   "cell_type": "code",
   "execution_count": 4,
   "id": "bcd97afe-fdf6-4b06-be97-4f5cd1424b80",
   "metadata": {},
   "outputs": [],
   "source": [
    "#Write a Function to find Price to Earning Ratio & Price to Book Value Ratio of a Company Stock \n",
    "\n",
    "def find_pe_and_pb(price,eps,book_value):\n",
    "    pe = price/eps # - pe -> pe_ratio\n",
    "    pb = price/book_value # - pb -> pb_ratio\n",
    "    return pe,pb"
   ]
  },
  {
   "cell_type": "code",
   "execution_count": 5,
   "id": "d0e92415-7c8a-474a-9113-9b813b9c17dc",
   "metadata": {},
   "outputs": [],
   "source": [
    "pe_ratio,pb_ratio = find_pe_and_pb(100,2,4)"
   ]
  },
  {
   "cell_type": "code",
   "execution_count": 6,
   "id": "33ac0938-e9f0-44d0-9e50-e9eb6220e8f7",
   "metadata": {},
   "outputs": [
    {
     "data": {
      "text/plain": [
       "50.0"
      ]
     },
     "execution_count": 6,
     "metadata": {},
     "output_type": "execute_result"
    }
   ],
   "source": [
    "pe_ratio"
   ]
  },
  {
   "cell_type": "code",
   "execution_count": 7,
   "id": "4ac9d608-d238-4b21-97e8-9ad355456333",
   "metadata": {},
   "outputs": [
    {
     "data": {
      "text/plain": [
       "25.0"
      ]
     },
     "execution_count": 7,
     "metadata": {},
     "output_type": "execute_result"
    }
   ],
   "source": [
    "pb_ratio"
   ]
  },
  {
   "cell_type": "code",
   "execution_count": null,
   "id": "901d0faa-6a91-412e-bc34-37622d52a6d7",
   "metadata": {},
   "outputs": [],
   "source": []
  },
  {
   "cell_type": "code",
   "execution_count": 9,
   "id": "b8dbf2d6-3410-48ab-8078-d8c27125bf53",
   "metadata": {},
   "outputs": [],
   "source": [
    "contacts = [('rachel',888777111),('monica',312327398),('joey',999932323)] # This is using tuples and list"
   ]
  },
  {
   "cell_type": "code",
   "execution_count": 10,
   "id": "78f6120c-6268-43a2-a61c-4662cf81e698",
   "metadata": {},
   "outputs": [
    {
     "name": "stdout",
     "output_type": "stream",
     "text": [
      "999932323\n"
     ]
    }
   ],
   "source": [
    "for contact in contacts:\n",
    "    if contact[0]=='joey':\n",
    "        print(contact[1])"
   ]
  },
  {
   "cell_type": "code",
   "execution_count": 11,
   "id": "7f0526ec-12b8-49d3-a4cf-8673d6b4f5c2",
   "metadata": {},
   "outputs": [],
   "source": [
    "# BigO(n) - Order of n"
   ]
  },
  {
   "cell_type": "code",
   "execution_count": 13,
   "id": "3da4eb6a-a54d-45bc-9649-a0c56e34dd6d",
   "metadata": {},
   "outputs": [
    {
     "data": {
      "text/plain": [
       "{'rachel': 888777111, 'monica': 312327398, 'joey': 999932323}"
      ]
     },
     "execution_count": 13,
     "metadata": {},
     "output_type": "execute_result"
    }
   ],
   "source": [
    "# but the better way of such data ... it is better to use dictionaries\n",
    "\n",
    "d = {\n",
    "    'rachel':888777111,\n",
    "    'monica':312327398,\n",
    "    'joey':999932323\n",
    "} \n",
    "\n",
    "d"
   ]
  },
  {
   "cell_type": "code",
   "execution_count": 16,
   "id": "9f8fbbbd-0197-4a2a-aefd-4b72412416d0",
   "metadata": {},
   "outputs": [
    {
     "data": {
      "text/plain": [
       "312327398"
      ]
     },
     "execution_count": 16,
     "metadata": {},
     "output_type": "execute_result"
    }
   ],
   "source": [
    "d['monica'] # When we enter the KEY is returns its pair value as O/P"
   ]
  },
  {
   "cell_type": "code",
   "execution_count": 18,
   "id": "b9bd374f-86ec-4b5f-8b65-87e67173bece",
   "metadata": {},
   "outputs": [],
   "source": [
    "# Dictionaries is Python uses Hash Map Data Structures"
   ]
  },
  {
   "cell_type": "code",
   "execution_count": 19,
   "id": "32742fd6-26ec-4a0e-9f2a-1a21c4f7a3e5",
   "metadata": {},
   "outputs": [
    {
     "ename": "KeyError",
     "evalue": "'mohan'",
     "output_type": "error",
     "traceback": [
      "\u001b[1;31m---------------------------------------------------------------------------\u001b[0m",
      "\u001b[1;31mKeyError\u001b[0m                                  Traceback (most recent call last)",
      "Cell \u001b[1;32mIn[19], line 1\u001b[0m\n\u001b[1;32m----> 1\u001b[0m \u001b[43md\u001b[49m\u001b[43m[\u001b[49m\u001b[38;5;124;43m'\u001b[39;49m\u001b[38;5;124;43mmohan\u001b[39;49m\u001b[38;5;124;43m'\u001b[39;49m\u001b[43m]\u001b[49m\n",
      "\u001b[1;31mKeyError\u001b[0m: 'mohan'"
     ]
    }
   ],
   "source": [
    "d['mohan'] # if we enter an element which is not in dictioanry it will throw an exception"
   ]
  },
  {
   "cell_type": "code",
   "execution_count": 20,
   "id": "e9e34b73-6c2d-428d-92fb-cbfd91a220de",
   "metadata": {},
   "outputs": [],
   "source": [
    "# to avoid this we use .get() funciton\n",
    "\n",
    "d.get('mohan') # is the value is not there is will return None value"
   ]
  },
  {
   "cell_type": "code",
   "execution_count": 21,
   "id": "fc6e34d3-ab45-44f4-ba8b-229deee1f3a2",
   "metadata": {},
   "outputs": [],
   "source": [
    "d['rachel'] = 27918378921 # to change the value of an element"
   ]
  },
  {
   "cell_type": "code",
   "execution_count": 22,
   "id": "f8fa2d5b-c86d-4502-86b4-46769288e12b",
   "metadata": {},
   "outputs": [
    {
     "data": {
      "text/plain": [
       "{'rachel': 27918378921, 'monica': 312327398, 'joey': 999932323}"
      ]
     },
     "execution_count": 22,
     "metadata": {},
     "output_type": "execute_result"
    }
   ],
   "source": [
    "d"
   ]
  },
  {
   "cell_type": "code",
   "execution_count": 23,
   "id": "290ce874-6ecd-4dac-ab0d-64d3a8ea900c",
   "metadata": {},
   "outputs": [],
   "source": [
    "d['sathya'] = 29138902381 # To add new element"
   ]
  },
  {
   "cell_type": "code",
   "execution_count": 24,
   "id": "6b8827ef-2d0f-4017-9187-f87d5e1e6850",
   "metadata": {},
   "outputs": [
    {
     "data": {
      "text/plain": [
       "{'rachel': 27918378921,\n",
       " 'monica': 312327398,\n",
       " 'joey': 999932323,\n",
       " 'sathya': 29138902381}"
      ]
     },
     "execution_count": 24,
     "metadata": {},
     "output_type": "execute_result"
    }
   ],
   "source": [
    "d"
   ]
  },
  {
   "cell_type": "code",
   "execution_count": 25,
   "id": "deedccbd-352b-44f9-a27c-0672da75039b",
   "metadata": {},
   "outputs": [
    {
     "data": {
      "text/plain": [
       "{'rachel': 27918378921, 'monica': 312327398, 'joey': 999932323}"
      ]
     },
     "execution_count": 25,
     "metadata": {},
     "output_type": "execute_result"
    }
   ],
   "source": [
    "del d['sathya'] # to delete an element\n",
    "d"
   ]
  },
  {
   "cell_type": "code",
   "execution_count": 26,
   "id": "46eae9f4-c8e1-4c38-a6fa-d63911076228",
   "metadata": {},
   "outputs": [
    {
     "data": {
      "text/plain": [
       "True"
      ]
     },
     "execution_count": 26,
     "metadata": {},
     "output_type": "execute_result"
    }
   ],
   "source": [
    "'rachel' in d"
   ]
  },
  {
   "cell_type": "code",
   "execution_count": 27,
   "id": "7c0ec867-bda9-40c7-8dd2-24ff9e2c808a",
   "metadata": {},
   "outputs": [
    {
     "data": {
      "text/plain": [
       "False"
      ]
     },
     "execution_count": 27,
     "metadata": {},
     "output_type": "execute_result"
    }
   ],
   "source": [
    "'prakash' in d"
   ]
  },
  {
   "cell_type": "code",
   "execution_count": 30,
   "id": "e392a431-13ff-4796-9a22-9450829c01fd",
   "metadata": {},
   "outputs": [],
   "source": [
    "# We can have dictionaries inside Dictionaries\n",
    "\n",
    "d = {\n",
    "    'rachel':{'phone':329108390,'address':'1 blue street' },\n",
    "    'monica':{'phone':234798237,'address':'boulevard' },\n",
    "    'joey':{'phone':29809234,'address':'Gandhipuram '}\n",
    "} "
   ]
  },
  {
   "cell_type": "code",
   "execution_count": 31,
   "id": "15dfa59f-20d4-40e0-bc6c-05342532ffaa",
   "metadata": {},
   "outputs": [
    {
     "data": {
      "text/plain": [
       "'Gandhipuram '"
      ]
     },
     "execution_count": 31,
     "metadata": {},
     "output_type": "execute_result"
    }
   ],
   "source": [
    "d['joey']['address'] # to access the elements"
   ]
  },
  {
   "cell_type": "code",
   "execution_count": 33,
   "id": "894fae3e-da36-4d5a-b56e-dcfef8b0f41d",
   "metadata": {},
   "outputs": [
    {
     "data": {
      "text/plain": [
       "{'rachel': 888777111, 'monica': 312327398, 'joey': 999932323}"
      ]
     },
     "execution_count": 33,
     "metadata": {},
     "output_type": "execute_result"
    }
   ],
   "source": [
    "d = {\n",
    "    'rachel':888777111,\n",
    "    'monica':312327398,\n",
    "    'joey':999932323\n",
    "} \n",
    "d"
   ]
  },
  {
   "cell_type": "code",
   "execution_count": 35,
   "id": "8fd2532e-8a55-4b82-a289-f64d895ccbbe",
   "metadata": {},
   "outputs": [
    {
     "name": "stdout",
     "output_type": "stream",
     "text": [
      "rachel\n",
      "888777111\n",
      "monica\n",
      "312327398\n",
      "joey\n",
      "999932323\n"
     ]
    }
   ],
   "source": [
    "for name in d:\n",
    "    print(name)\n",
    "    print(d[name])"
   ]
  },
  {
   "cell_type": "code",
   "execution_count": 36,
   "id": "ee69024a-8e89-4646-bbe0-a9ed0a2ea0c3",
   "metadata": {},
   "outputs": [
    {
     "name": "stdout",
     "output_type": "stream",
     "text": [
      "rachel 888777111\n",
      "monica 312327398\n",
      "joey 999932323\n"
     ]
    }
   ],
   "source": [
    "for name in d:\n",
    "    print(name,d[name])"
   ]
  },
  {
   "cell_type": "code",
   "execution_count": 37,
   "id": "1ffca49a-b722-4cf7-ab89-49e601e21c1c",
   "metadata": {},
   "outputs": [
    {
     "name": "stdout",
     "output_type": "stream",
     "text": [
      "rachel 888777111\n",
      "monica 312327398\n",
      "joey 999932323\n"
     ]
    }
   ],
   "source": [
    "for name,number in d.items():\n",
    "    print(name,number)"
   ]
  },
  {
   "cell_type": "code",
   "execution_count": 38,
   "id": "f046b307-7b6b-4438-9733-27038c7f2b22",
   "metadata": {},
   "outputs": [
    {
     "data": {
      "text/plain": [
       "['__class__',\n",
       " '__contains__',\n",
       " '__delattr__',\n",
       " '__delitem__',\n",
       " '__dir__',\n",
       " '__doc__',\n",
       " '__eq__',\n",
       " '__format__',\n",
       " '__ge__',\n",
       " '__getattribute__',\n",
       " '__getitem__',\n",
       " '__gt__',\n",
       " '__hash__',\n",
       " '__init__',\n",
       " '__init_subclass__',\n",
       " '__iter__',\n",
       " '__le__',\n",
       " '__len__',\n",
       " '__lt__',\n",
       " '__ne__',\n",
       " '__new__',\n",
       " '__reduce__',\n",
       " '__reduce_ex__',\n",
       " '__repr__',\n",
       " '__reversed__',\n",
       " '__setattr__',\n",
       " '__setitem__',\n",
       " '__sizeof__',\n",
       " '__str__',\n",
       " '__subclasshook__',\n",
       " 'clear',\n",
       " 'copy',\n",
       " 'fromkeys',\n",
       " 'get',\n",
       " 'items',\n",
       " 'keys',\n",
       " 'pop',\n",
       " 'popitem',\n",
       " 'setdefault',\n",
       " 'update',\n",
       " 'values']"
      ]
     },
     "execution_count": 38,
     "metadata": {},
     "output_type": "execute_result"
    }
   ],
   "source": [
    "dir(d) # All the Functions related to Dictionaries"
   ]
  },
  {
   "cell_type": "code",
   "execution_count": 39,
   "id": "96f72f53-2c98-43ad-9cb2-c2581e06ee91",
   "metadata": {},
   "outputs": [
    {
     "data": {
      "text/plain": [
       "{'rachel': 888777111, 'monica': 312327398, 'joey': 999932323}"
      ]
     },
     "execution_count": 39,
     "metadata": {},
     "output_type": "execute_result"
    }
   ],
   "source": [
    "d\n"
   ]
  },
  {
   "cell_type": "code",
   "execution_count": 41,
   "id": "6c9ab625-425b-4d38-bb2a-9f8072fb0bef",
   "metadata": {},
   "outputs": [
    {
     "data": {
      "text/plain": [
       "dict_keys(['rachel', 'monica', 'joey'])"
      ]
     },
     "execution_count": 41,
     "metadata": {},
     "output_type": "execute_result"
    }
   ],
   "source": [
    "d.keys() # Only returns the Keys "
   ]
  },
  {
   "cell_type": "code",
   "execution_count": 42,
   "id": "0723941b-896a-43e5-9160-1b5ed1fb999e",
   "metadata": {},
   "outputs": [
    {
     "data": {
      "text/plain": [
       "dict_values([888777111, 312327398, 999932323])"
      ]
     },
     "execution_count": 42,
     "metadata": {},
     "output_type": "execute_result"
    }
   ],
   "source": [
    "d.values() # Only Returns the Values"
   ]
  },
  {
   "cell_type": "code",
   "execution_count": 44,
   "id": "ceb929ac-bc1d-435f-9942-c808a899f802",
   "metadata": {},
   "outputs": [
    {
     "ename": "TypeError",
     "evalue": "unhashable type: 'slice'",
     "output_type": "error",
     "traceback": [
      "\u001b[1;31m---------------------------------------------------------------------------\u001b[0m",
      "\u001b[1;31mTypeError\u001b[0m                                 Traceback (most recent call last)",
      "Cell \u001b[1;32mIn[44], line 2\u001b[0m\n\u001b[0;32m      1\u001b[0m d \u001b[38;5;241m=\u001b[39m {\u001b[38;5;124m'\u001b[39m\u001b[38;5;124mLuke\u001b[39m\u001b[38;5;124m'\u001b[39m: \u001b[38;5;241m1994\u001b[39m, \u001b[38;5;124m'\u001b[39m\u001b[38;5;124mBoba\u001b[39m\u001b[38;5;124m'\u001b[39m: \u001b[38;5;241m1989\u001b[39m, \u001b[38;5;124m'\u001b[39m\u001b[38;5;124mKyle\u001b[39m\u001b[38;5;124m'\u001b[39m: \u001b[38;5;241m1998\u001b[39m, \u001b[38;5;124m'\u001b[39m\u001b[38;5;124mHann\u001b[39m\u001b[38;5;124m'\u001b[39m: \u001b[38;5;241m1993\u001b[39m}\n\u001b[1;32m----> 2\u001b[0m \u001b[38;5;28mprint\u001b[39m(\u001b[43md\u001b[49m\u001b[43m[\u001b[49m\u001b[38;5;124;43m'\u001b[39;49m\u001b[38;5;124;43mBoba\u001b[39;49m\u001b[38;5;124;43m'\u001b[39;49m\u001b[43m \u001b[49m\u001b[43m:\u001b[49m\u001b[43m \u001b[49m\u001b[38;5;124;43m'\u001b[39;49m\u001b[38;5;124;43mKyle\u001b[39;49m\u001b[38;5;124;43m'\u001b[39;49m\u001b[43m]\u001b[49m)\n",
      "\u001b[1;31mTypeError\u001b[0m: unhashable type: 'slice'"
     ]
    }
   ],
   "source": [
    "d = {'Luke': 1994, 'Boba': 1989, 'Kyle': 1998, 'Hann': 1993}\n",
    "print(d['Boba' : 'Kyle'])"
   ]
  },
  {
   "cell_type": "code",
   "execution_count": 45,
   "id": "01d66189-2a74-477d-9553-bd301c646046",
   "metadata": {},
   "outputs": [
    {
     "data": {
      "text/plain": [
       "dict_items([('Luke', 1994), ('Boba', 1989), ('Kyle', 1998), ('Hann', 1993)])"
      ]
     },
     "execution_count": 45,
     "metadata": {},
     "output_type": "execute_result"
    }
   ],
   "source": [
    "d.items()"
   ]
  },
  {
   "cell_type": "markdown",
   "id": "67dbeae2-4c46-40d1-9513-1ff4ee5cfcb3",
   "metadata": {},
   "source": [
    "# Dictionaries & Tuples Excercise"
   ]
  },
  {
   "cell_type": "code",
   "execution_count": 51,
   "id": "5d117552-440a-4b35-abe0-b8052e16a8c3",
   "metadata": {},
   "outputs": [
    {
     "data": {
      "text/plain": [
       "['Prakash', 'prem', 'arun', 'anand', 'rubin']"
      ]
     },
     "execution_count": 51,
     "metadata": {},
     "output_type": "execute_result"
    }
   ],
   "source": [
    "#1. Create a list of your friends' names and now create a list of tuples. The tuple should contain the friend’s name and the length of the name. For Example: if someone’s name is Aditya, the tuple would be: (‘Aditya’, 6)\n",
    "\n",
    "name = ['Prakash','prem','arun','anand','rubin']\n",
    "name\n"
   ]
  },
  {
   "cell_type": "code",
   "execution_count": 53,
   "id": "5afea3d1-03e1-4ccb-ad13-ac963705cfd9",
   "metadata": {},
   "outputs": [
    {
     "name": "stdout",
     "output_type": "stream",
     "text": [
      "{'Prakash': 7, 'prem': 4, 'arun': 4, 'anand': 5, 'rubin': 5}\n"
     ]
    },
    {
     "data": {
      "text/plain": [
       "7"
      ]
     },
     "execution_count": 53,
     "metadata": {},
     "output_type": "execute_result"
    }
   ],
   "source": [
    "Name_size = {\n",
    "    'Prakash':7,\n",
    "    'prem':4,\n",
    "    'arun':4,\n",
    "    'anand':5,\n",
    "    'rubin':5\n",
    "} \n",
    "print(Name_size)\n",
    "\n",
    "Name_size['Prakash']"
   ]
  },
  {
   "cell_type": "code",
   "execution_count": null,
   "id": "02be9b2e-4bb9-4946-8420-5e274230ace0",
   "metadata": {},
   "outputs": [],
   "source": [
    "\"\"\"\n",
    "2.You and your wife argued about expenses last night. You both want to know who is spending more in a month. Now you both go to the Little Yoda he is a good python programmer. He suggested that both of you add an entry in a dictionary next time you spend money. So that you can have a clear picture of your expenses and plan to reduce them. Both dictionaries are as below-\n",
    "Your expenses -\n",
    "\n",
    "Clothes - 1100\n",
    "Shoes - 1000\n",
    "Watch - 900\n",
    "Mobile Recharge - 699\n",
    "Petrol - 1980\n",
    "Your Wife’s expenses -\n",
    "\n",
    "Mobile Recharge - 799\n",
    "DTH recharge - 999\n",
    "Clothes - 2310\n",
    "Makeup - 3670\n",
    "Shoes - 999\n",
    "\"\"\""
   ]
  },
  {
   "cell_type": "code",
   "execution_count": 55,
   "id": "d0259404-7048-43a5-9ea3-ed29de295a29",
   "metadata": {},
   "outputs": [],
   "source": [
    "# Find out the total expenses for each of you.\n",
    "\n",
    "Expenses = {\n",
    "    'Clothes':1100,\n",
    "    'Shoes':1000,\n",
    "    'Watch':900,\n",
    "    'Mobile Recharge':699,\n",
    "    'Petrol':1980,\n",
    "} \n",
    "\n",
    "Wifes_expenses = {\n",
    "    'Mobile Recharge':799,\n",
    "    'DTH Recharge':999,\n",
    "    'Clothes':2310,\n",
    "    'Makeup':3670,\n",
    "    'Shoes':999,\n",
    "}"
   ]
  },
  {
   "cell_type": "code",
   "execution_count": 56,
   "id": "ab77e4f9-7136-4a18-bda8-9eb4f749081b",
   "metadata": {},
   "outputs": [
    {
     "data": {
      "text/plain": [
       "{'Clothes': 1100,\n",
       " 'Shoes': 1000,\n",
       " 'Watch': 900,\n",
       " 'Mobile Recharge': 699,\n",
       " 'Petrol': 1980}"
      ]
     },
     "execution_count": 56,
     "metadata": {},
     "output_type": "execute_result"
    }
   ],
   "source": [
    "Expenses"
   ]
  },
  {
   "cell_type": "code",
   "execution_count": 57,
   "id": "69266d97-1a33-4e67-931d-24b918b6f998",
   "metadata": {},
   "outputs": [
    {
     "data": {
      "text/plain": [
       "{'Mobile Recharge': 799,\n",
       " 'DTH Recharge': 999,\n",
       " 'Clothes': 2310,\n",
       " 'Makeup': 3670,\n",
       " 'Shoes': 999}"
      ]
     },
     "execution_count": 57,
     "metadata": {},
     "output_type": "execute_result"
    }
   ],
   "source": [
    "Wifes_expenses"
   ]
  },
  {
   "cell_type": "code",
   "execution_count": 66,
   "id": "a4406b17-76cd-4d4d-a66d-12248595c65d",
   "metadata": {},
   "outputs": [
    {
     "data": {
      "text/plain": [
       "5679"
      ]
     },
     "execution_count": 66,
     "metadata": {},
     "output_type": "execute_result"
    }
   ],
   "source": [
    "lst1=Expenses.values()\n",
    "Total_myexpense = sum(lst1)\n",
    "Total_myexpense"
   ]
  },
  {
   "cell_type": "code",
   "execution_count": 68,
   "id": "886c7627-6a1c-46b0-ba35-13be6ced8bb7",
   "metadata": {},
   "outputs": [
    {
     "data": {
      "text/plain": [
       "8777"
      ]
     },
     "execution_count": 68,
     "metadata": {},
     "output_type": "execute_result"
    }
   ],
   "source": [
    "lst2=Wifes_expenses.values()\n",
    "Total_myexpense = sum(lst2)\n",
    "Total_myexpense"
   ]
  },
  {
   "cell_type": "code",
   "execution_count": 69,
   "id": "52ca50f7-0771-4d88-b4af-7bd4713375d9",
   "metadata": {},
   "outputs": [],
   "source": [
    "# Find out who spending more\n",
    "\n",
    "# WIFE's Expense is more and she is SPENDINGGGGG MOREEEE"
   ]
  },
  {
   "cell_type": "code",
   "execution_count": 79,
   "id": "24fd0861-b8f3-4c12-bd3f-edecee38a99f",
   "metadata": {},
   "outputs": [
    {
     "data": {
      "text/plain": [
       "'Watch'"
      ]
     },
     "execution_count": 79,
     "metadata": {},
     "output_type": "execute_result"
    }
   ],
   "source": [
    "# Find out which thing you and your wife spending more\n",
    "\n",
    "Exp_thing = max(Expenses)\n",
    "Exp_thing"
   ]
  },
  {
   "cell_type": "code",
   "execution_count": 80,
   "id": "78df5742-8359-427e-a7fa-2434b7404c28",
   "metadata": {},
   "outputs": [
    {
     "data": {
      "text/plain": [
       "'Shoes'"
      ]
     },
     "execution_count": 80,
     "metadata": {},
     "output_type": "execute_result"
    }
   ],
   "source": [
    "Exp_wifething = max(Wifes_expenses)\n",
    "Exp_wifething"
   ]
  },
  {
   "cell_type": "code",
   "execution_count": null,
   "id": "27f5836e-bc61-4763-9ce9-8f3e85b453a0",
   "metadata": {},
   "outputs": [],
   "source": []
  }
 ],
 "metadata": {
  "kernelspec": {
   "display_name": "Python 3 (ipykernel)",
   "language": "python",
   "name": "python3"
  },
  "language_info": {
   "codemirror_mode": {
    "name": "ipython",
    "version": 3
   },
   "file_extension": ".py",
   "mimetype": "text/x-python",
   "name": "python",
   "nbconvert_exporter": "python",
   "pygments_lexer": "ipython3",
   "version": "3.8.10"
  }
 },
 "nbformat": 4,
 "nbformat_minor": 5
}
