{
 "cells": [
  {
   "cell_type": "markdown",
   "id": "dfa21b9b-a3ba-467b-9d1c-df598340b61e",
   "metadata": {},
   "source": [
    "# Day 3 For - Loops"
   ]
  },
  {
   "cell_type": "code",
   "execution_count": 1,
   "id": "8c4fc6a3-c0da-4dc8-88ee-ee8a294c2bdc",
   "metadata": {},
   "outputs": [
    {
     "name": "stdout",
     "output_type": "stream",
     "text": [
      "1200\n",
      "1300\n",
      "1500\n",
      "1700\n"
     ]
    }
   ],
   "source": [
    "expenses = [1200,1300,1500,1700]\n",
    "\n",
    "for expense in expenses :\n",
    "    print(expense)"
   ]
  },
  {
   "cell_type": "code",
   "execution_count": 2,
   "id": "21b6bd28-557a-43d2-89b5-2a7f2be3ee91",
   "metadata": {},
   "outputs": [
    {
     "name": "stdout",
     "output_type": "stream",
     "text": [
      "5700\n"
     ]
    }
   ],
   "source": [
    "total_expense = 0\n",
    "\n",
    "for expense in expenses:\n",
    "    total_expense = total_expense + expense\n",
    "\n",
    "print(total_expense)"
   ]
  },
  {
   "cell_type": "code",
   "execution_count": 4,
   "id": "7ea9d5d3-e3ca-4ba0-857d-260876df3565",
   "metadata": {},
   "outputs": [
    {
     "data": {
      "text/plain": [
       "[0, 1, 2, 3, 4, 5, 6, 7, 8, 9]"
      ]
     },
     "execution_count": 4,
     "metadata": {},
     "output_type": "execute_result"
    }
   ],
   "source": [
    "list(range(10)) # range() gives the range or all the values within the given range"
   ]
  },
  {
   "cell_type": "code",
   "execution_count": 5,
   "id": "d339217e-7ca7-4c7a-9a86-b6e7ced57861",
   "metadata": {},
   "outputs": [
    {
     "name": "stdout",
     "output_type": "stream",
     "text": [
      "0\n",
      "1\n",
      "2\n",
      "3\n",
      "4\n"
     ]
    }
   ],
   "source": [
    "# we can incorporate this in for loop to print or operate an calution within an desirable / given range\n",
    "\n",
    "for i in range(5): # this print the values within the range of 5 ie ., 0,1,2,3,4\n",
    "    print(i)"
   ]
  },
  {
   "cell_type": "code",
   "execution_count": 6,
   "id": "ad18dbd5-4878-4b56-96ec-380cb42ebf34",
   "metadata": {},
   "outputs": [
    {
     "name": "stdout",
     "output_type": "stream",
     "text": [
      "5\n",
      "6\n",
      "7\n",
      "8\n",
      "9\n"
     ]
    }
   ],
   "source": [
    "# we can specify the range's starting and ending point\n",
    "\n",
    "for i in range ( 5,10):\n",
    "    print(i)"
   ]
  },
  {
   "cell_type": "code",
   "execution_count": 11,
   "id": "c3ca026a-1bde-4e8d-8bcf-2860939093f8",
   "metadata": {},
   "outputs": [
    {
     "name": "stdout",
     "output_type": "stream",
     "text": [
      "0\n",
      "1200\n",
      "1\n",
      "1300\n",
      "2\n",
      "1500\n",
      "3\n",
      "1700\n"
     ]
    }
   ],
   "source": [
    "expenses = [1200,1300,1500,1700]\n",
    "            # 0 , 1  , 2  , 3\n",
    "\n",
    "for i in range (len(expenses)): # this finds out or prints out the total indexes of the list\n",
    "    print(i)\n",
    "    print(expenses[i]) # prints the corresponding values of the indexes"
   ]
  },
  {
   "cell_type": "code",
   "execution_count": 16,
   "id": "3509efe4-5c70-4d7e-b80c-1093d61e1504",
   "metadata": {},
   "outputs": [
    {
     "name": "stdout",
     "output_type": "stream",
     "text": [
      "Month: 1 , Expense: 1200\n",
      "Month: 2 , Expense: 1300\n",
      "Month: 3 , Expense: 1500\n",
      "Month: 4 , Expense: 1700\n",
      "Total Expense  5700\n"
     ]
    }
   ],
   "source": [
    "total_expense = 0\n",
    "for i in range(len(expenses)): # i - index\n",
    "    expense = expenses[i] #expense = expenses[index]\n",
    "    print(f\"Month: {i+1} , Expense: {expense}\")\n",
    "    total_expense += expense # total_expense = total_expense + expense\n",
    "\n",
    "print(\"Total Expense \" , total_expense)"
   ]
  },
  {
   "cell_type": "code",
   "execution_count": 18,
   "id": "f64e90f2-0e38-444d-b84e-a8a736ad9623",
   "metadata": {},
   "outputs": [
    {
     "name": "stdout",
     "output_type": "stream",
     "text": [
      "Month: 1 , Expense: 1200\n",
      "Month: 2 , Expense: 1300\n",
      "Month: 3 , Expense: 1500\n",
      "Month: 4 , Expense: 1700\n",
      "Total Expense  5700\n"
     ]
    }
   ],
   "source": [
    "total_expense = 0\n",
    "for i,expense in enumerate(expenses): # Using enumerate is faster to read and access the values of the index of a list \n",
    "    print(f\"Month: {i+1} , Expense: {expense}\")\n",
    "    total_expense += expense # total_expense = total_expense + expense\n",
    "\n",
    "print(\"Total Expense \" , total_expense)"
   ]
  },
  {
   "cell_type": "code",
   "execution_count": 21,
   "id": "6f5cd865-768f-4c6d-bda9-3cf08f5f9d7f",
   "metadata": {},
   "outputs": [
    {
     "name": "stdout",
     "output_type": "stream",
     "text": [
      "Month : 3 has expense > 2000\n"
     ]
    }
   ],
   "source": [
    "expenses = [1200,1300,2100,1500,1700,2300]\n",
    "\n",
    "for i,expense in enumerate(expenses):\n",
    "    if expense>2000:\n",
    "        print(f\"Month : {i+1} has expense > 2000\")\n",
    "        break"
   ]
  },
  {
   "cell_type": "code",
   "execution_count": 22,
   "id": "c23ac0eb-87e7-4959-a5d5-2fd36b47f2f6",
   "metadata": {},
   "outputs": [
    {
     "name": "stdout",
     "output_type": "stream",
     "text": [
      "Key is not Found at  sofa\n",
      "Key is not Found at  garage\n",
      "key is found at  chair\n"
     ]
    }
   ],
   "source": [
    "locations = [\"sofa\",\"garage\",\"chair\",\"table\",\"closet\"] \n",
    "\n",
    "# lets say our key got stuck in chair , so we need to stop our search/iterate when we come to chair \n",
    "\n",
    "key_location = \"chair\"\n",
    "\n",
    "for location in locations:\n",
    "    if location == key_location:\n",
    "        print(\"key is found at \",location)\n",
    "        break\n",
    "    else:\n",
    "        print(\"Key is not Found at \",location)"
   ]
  },
  {
   "cell_type": "code",
   "execution_count": 23,
   "id": "1c74ce15-89a9-4f0d-b69d-68ea1da0b01b",
   "metadata": {},
   "outputs": [
    {
     "name": "stdout",
     "output_type": "stream",
     "text": [
      "Key is not Found at  sofa\n",
      "Key is not Found at  garage\n",
      "key is found at  chair\n",
      "Key is not Found at  table\n",
      "Key is not Found at  closet\n"
     ]
    }
   ],
   "source": [
    "locations = [\"sofa\",\"garage\",\"chair\",\"table\",\"closet\"] \n",
    "\n",
    "# lets say our key got stuck in chair , so we need to stop our search/iterate when we come to chair \n",
    "\n",
    "key_location = \"chair\"\n",
    "\n",
    "for location in locations:\n",
    "    if location == key_location:\n",
    "        print(\"key is found at \",location) # Difference between using Break and not using Break \n",
    "    else:\n",
    "        print(\"Key is not Found at \",location)"
   ]
  },
  {
   "cell_type": "code",
   "execution_count": 26,
   "id": "f4483d95-b852-4ae9-be5d-b6c9c9dfd40a",
   "metadata": {},
   "outputs": [
    {
     "name": "stdout",
     "output_type": "stream",
     "text": [
      "1\n",
      "3\n",
      "5\n",
      "7\n",
      "9\n"
     ]
    }
   ],
   "source": [
    "# Print odd number upto 10\n",
    "\n",
    "for i in range(1,11):\n",
    "    if i%2 == 1:\n",
    "        print(i)\n",
    "    "
   ]
  },
  {
   "cell_type": "code",
   "execution_count": 27,
   "id": "6df00ec9-655a-4942-b707-4672c818b95b",
   "metadata": {},
   "outputs": [
    {
     "name": "stdout",
     "output_type": "stream",
     "text": [
      "1\n",
      "3\n",
      "5\n",
      "7\n",
      "9\n"
     ]
    }
   ],
   "source": [
    "# ALternative way \n",
    "\n",
    "for i in range(1,11):\n",
    "    if i%2 == 0:\n",
    "        continue # when we use continue , it won't execute any code / line below continue\n",
    "    print(i)"
   ]
  },
  {
   "cell_type": "code",
   "execution_count": 30,
   "id": "1ef14bae-b61a-4c88-bacb-933d904eb050",
   "metadata": {},
   "outputs": [
    {
     "name": "stdout",
     "output_type": "stream",
     "text": [
      "0\n",
      "1\n",
      "2\n",
      "3\n",
      "4\n",
      "5\n",
      "6\n",
      "7\n",
      "8\n",
      "9\n",
      "10\n"
     ]
    }
   ],
   "source": [
    "n=0\n",
    "total = 10\n",
    "while n<=10:\n",
    "    print(n)\n",
    "    n+=1 # if we dont use this increment statment in while loop ,  there will be an infinite loop so for loop is better"
   ]
  },
  {
   "cell_type": "code",
   "execution_count": 33,
   "id": "6699dd58-d081-41d2-92ae-06f422bd2aa8",
   "metadata": {},
   "outputs": [
    {
     "name": "stdout",
     "output_type": "stream",
     "text": [
      "1, -1, -3, -5, "
     ]
    }
   ],
   "source": [
    "for n in range(1, -6, -2):\n",
    "    print(n, end=', ')"
   ]
  },
  {
   "cell_type": "code",
   "execution_count": 32,
   "id": "61b4e85d-c8fa-4542-bd13-e0b145c91a5a",
   "metadata": {},
   "outputs": [
    {
     "data": {
      "text/plain": [
       "-4"
      ]
     },
     "execution_count": 32,
     "metadata": {},
     "output_type": "execute_result"
    }
   ],
   "source": [
    "-1--3"
   ]
  },
  {
   "cell_type": "code",
   "execution_count": 34,
   "id": "d574de90-7fcc-428e-8b80-20a6d3b2b7ff",
   "metadata": {},
   "outputs": [
    {
     "data": {
      "text/plain": [
       "1"
      ]
     },
     "execution_count": 34,
     "metadata": {},
     "output_type": "execute_result"
    }
   ],
   "source": [
    "-1+2\n"
   ]
  },
  {
   "cell_type": "code",
   "execution_count": 35,
   "id": "0fd226fb-c3a8-45b6-852e-0918562ffe66",
   "metadata": {},
   "outputs": [
    {
     "name": "stdout",
     "output_type": "stream",
     "text": [
      "101\n"
     ]
    }
   ],
   "source": [
    "x = -1\n",
    "while x <=99:\n",
    "  x += 2\n",
    "print(x)"
   ]
  },
  {
   "cell_type": "markdown",
   "id": "a1ba9dad-9c89-4b7a-bcfa-1d0211a9939e",
   "metadata": {},
   "source": [
    "# For Loop Excercise"
   ]
  },
  {
   "cell_type": "code",
   "execution_count": 41,
   "id": "ae4b4e3a-a703-43e8-8eca-ee9aeedbd059",
   "metadata": {},
   "outputs": [
    {
     "name": "stdout",
     "output_type": "stream",
     "text": [
      "1 2 3 4 5 \n",
      "1 2 3 4 \n",
      "1 2 3 \n",
      "1 2 \n",
      "1 \n"
     ]
    }
   ],
   "source": [
    "# 1.Write a Python program to print the following pattern.\n",
    "\n",
    "# 1 2 3 4 5\n",
    "# 1 2 3 4 \n",
    "# 1 2 3\n",
    "# 1 2\n",
    "# 1\n",
    "\n",
    "rows = 5\n",
    "for i in range(rows, 0, -1):  # range (1 - 6)\n",
    "    for j in range(1, i + 1):\n",
    "        print(j, end=' ')\n",
    "    print('')"
   ]
  },
  {
   "cell_type": "code",
   "execution_count": 5,
   "id": "b69e0aa4-77d9-488c-bccf-48eeee3f6455",
   "metadata": {},
   "outputs": [
    {
     "name": "stdout",
     "output_type": "stream",
     "text": [
      "110\n"
     ]
    }
   ],
   "source": [
    "#2. Write a Python program to find the sum of all the numbers except odd numbers between 1 and 20 using a loop. Can you also do this using a while loop?\n",
    "\n",
    "total=0\n",
    "for i in range (1,21):\n",
    "    if i % 2 == 1:\n",
    "        continue\n",
    "    else:\n",
    "        total += i\n",
    "print(total)"
   ]
  },
  {
   "cell_type": "code",
   "execution_count": 24,
   "id": "8671aa8d-99ef-4c69-9860-dadd3a3b7e00",
   "metadata": {},
   "outputs": [
    {
     "name": "stdout",
     "output_type": "stream",
     "text": [
      "3\n"
     ]
    }
   ],
   "source": [
    "# #3. After throwing the dice several times, you got this result,\n",
    "\n",
    "# dice_result  = [5,6,4,2,5,4,4,5,3,3,2,6,1,2,1,1,6,5]\n",
    "# Using a for loop find out the followings:\n",
    "\n",
    "# How many times have you got 6s\n",
    "\n",
    "# How many times have you got 1s\n",
    "\n",
    "# How many times have you got 6s two times in a row\n",
    "\n",
    "dice_result  = [5,6,4,2,5,4,4,5,3,3,2,6,1,2,1,1,6,5]\n",
    "\n",
    "count = 0\n",
    "for dice in dice_result:\n",
    "    if dice % 6 ==0:\n",
    "        count += 1\n",
    "    else:\n",
    "        continue\n",
    "\n",
    "print(count)\n",
    "        "
   ]
  },
  {
   "cell_type": "code",
   "execution_count": 25,
   "id": "fcff16df-8a0c-43fe-9b65-842b1b3468c8",
   "metadata": {},
   "outputs": [
    {
     "name": "stdout",
     "output_type": "stream",
     "text": [
      "3\n"
     ]
    }
   ],
   "source": [
    "count = 0\n",
    "for dice in dice_result:\n",
    "    if dice / 1 == 1:\n",
    "        count += 1\n",
    "    else:\n",
    "        continue\n",
    "\n",
    "print(count)"
   ]
  },
  {
   "cell_type": "code",
   "execution_count": 26,
   "id": "dc32182e-8d44-482a-b5a2-db77449ed84c",
   "metadata": {},
   "outputs": [
    {
     "name": "stdout",
     "output_type": "stream",
     "text": [
      "0\n"
     ]
    }
   ],
   "source": [
    "\n",
    "count = 0\n",
    "l = len(dice_result)\n",
    "\n",
    "for i in range(l-1):\n",
    "    if dice_result[i]==6 and dice_result[i+1]==6:\n",
    "        count +=1\n",
    "print(count)\n",
    "    "
   ]
  },
  {
   "cell_type": "code",
   "execution_count": 2,
   "id": "887fa7b0-bd47-4927-b2f4-2dacc27b405c",
   "metadata": {},
   "outputs": [
    {
     "name": "stdout",
     "output_type": "stream",
     "text": [
      " Push Ups 1 completed \n",
      " Push Ups 2 completed \n",
      " Push Ups 3 completed \n",
      " Push Ups 4 completed \n",
      " Push Ups 5 completed \n",
      " Push Ups 6 completed \n",
      " Push Ups 7 completed \n",
      " Push Ups 8 completed \n",
      " Push Ups 9 completed \n",
      " Push Ups 10 completed \n"
     ]
    },
    {
     "name": "stdin",
     "output_type": "stream",
     "text": [
      "Are you Tired ? yes\n"
     ]
    },
    {
     "name": "stdout",
     "output_type": "stream",
     "text": [
      " You did total of 10 Pushups\n",
      " Push Ups 11 completed \n",
      " Push Ups 12 completed \n",
      " Push Ups 13 completed \n",
      " Push Ups 14 completed \n",
      " Push Ups 15 completed \n",
      " Push Ups 16 completed \n",
      " Push Ups 17 completed \n",
      " Push Ups 18 completed \n",
      " Push Ups 19 completed \n",
      " Push Ups 20 completed \n"
     ]
    },
    {
     "name": "stdin",
     "output_type": "stream",
     "text": [
      "Are you Tired ? y\n"
     ]
    },
    {
     "name": "stdout",
     "output_type": "stream",
     "text": [
      " You did total of 20 Pushups\n",
      " Push Ups 21 completed \n",
      " Push Ups 22 completed \n",
      " Push Ups 23 completed \n",
      " Push Ups 24 completed \n",
      " Push Ups 25 completed \n",
      " Push Ups 26 completed \n",
      " Push Ups 27 completed \n",
      " Push Ups 28 completed \n",
      " Push Ups 29 completed \n",
      " Push Ups 30 completed \n"
     ]
    },
    {
     "name": "stdin",
     "output_type": "stream",
     "text": [
      "Are you Tired ? y\n"
     ]
    },
    {
     "name": "stdout",
     "output_type": "stream",
     "text": [
      " You did total of 30 Pushups\n",
      " Push Ups 31 completed \n",
      " Push Ups 32 completed \n",
      " Push Ups 33 completed \n",
      " Push Ups 34 completed \n",
      " Push Ups 35 completed \n",
      " Push Ups 36 completed \n",
      " Push Ups 37 completed \n",
      " Push Ups 38 completed \n",
      " Push Ups 39 completed \n",
      " Push Ups 40 completed \n"
     ]
    },
    {
     "name": "stdin",
     "output_type": "stream",
     "text": [
      "Are you Tired ? y\n"
     ]
    },
    {
     "name": "stdout",
     "output_type": "stream",
     "text": [
      " You did total of 40 Pushups\n",
      " Push Ups 41 completed \n",
      " Push Ups 42 completed \n",
      " Push Ups 43 completed \n",
      " Push Ups 44 completed \n",
      " Push Ups 45 completed \n",
      " Push Ups 46 completed \n",
      " Push Ups 47 completed \n",
      " Push Ups 48 completed \n",
      " Push Ups 49 completed \n",
      " Push Ups 50 completed \n"
     ]
    },
    {
     "name": "stdin",
     "output_type": "stream",
     "text": [
      "Are you Tired ? y\n"
     ]
    },
    {
     "name": "stdout",
     "output_type": "stream",
     "text": [
      " You did total of 50 Pushups\n",
      "You Completed 50 Pushups\n"
     ]
    }
   ],
   "source": [
    "# 4. Let's say you are doing push-ups and you have to complete 50 push-ups daily, write a program that,\n",
    "\n",
    "# Upon completing 10 push-ups in a go, asks you, “Are you tired?”\n",
    "\n",
    "# If you reply “yes” or “y” then it should break and print “You did total push-ups.”\n",
    "\n",
    "# For example: If you did only 30  push-ups and answered “yes” to your program. It will break the loop and print “You did a total of 30 push-ups**”**\n",
    "\n",
    "# If you reply “no” or “n” then it should continue and display how many push-ups are remaining  now after that ask you again “Are you tired?”\n",
    "\n",
    "# For Example: if you answered “no” then it should display that 20 push-ups are remaining and ask you again “Are you tired?”\n",
    "\n",
    "# If you complete all 50 push-ups, then it should print the “Congratulations! You made it” and stopped the program.\n",
    "\n",
    "total_pushups = 0\n",
    "\n",
    "for i in range (5):\n",
    "    for j in range(10):\n",
    "        total_pushups +=1\n",
    "        print(f\" Push Ups {total_pushups} completed \")\n",
    "\n",
    "        # if total_pushups == 50:\n",
    "        #     print(\"Congratulations ! You Made it \")\n",
    "        #     exit()\n",
    "        if total_pushups % 10 == 0:\n",
    "            response = input(\"Are you Tired ?\").lower()\n",
    "            if response == 'yes' or response == 'y':\n",
    "                print(f\" You did total of {total_pushups} Pushups\")\n",
    "                exit()\n",
    "            elif response == 'no' or response == 'n':\n",
    "                remaining_pushups = 50 - total_pushups\n",
    "                print(f\" {remaining_pushups} Pushups are Remaining\")\n",
    "\n",
    "print(\"You Completed 50 Pushups\")\n",
    "                \n",
    "                "
   ]
  },
  {
   "cell_type": "code",
   "execution_count": null,
   "id": "89624935-80d6-454d-87b2-6cf6e5514dfd",
   "metadata": {},
   "outputs": [],
   "source": []
  }
 ],
 "metadata": {
  "kernelspec": {
   "display_name": "Python 3 (ipykernel)",
   "language": "python",
   "name": "python3"
  },
  "language_info": {
   "codemirror_mode": {
    "name": "ipython",
    "version": 3
   },
   "file_extension": ".py",
   "mimetype": "text/x-python",
   "name": "python",
   "nbconvert_exporter": "python",
   "pygments_lexer": "ipython3",
   "version": "3.8.10"
  }
 },
 "nbformat": 4,
 "nbformat_minor": 5
}
