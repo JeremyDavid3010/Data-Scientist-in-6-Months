{
 "cells": [
  {
   "cell_type": "markdown",
   "id": "c8b73a5f-c118-4b06-af8f-9cbe1f2df768",
   "metadata": {},
   "source": [
    "# Day 4 Functions"
   ]
  },
  {
   "cell_type": "code",
   "execution_count": 2,
   "id": "9d5bd827-3127-48bc-a7a2-8f35db1207ba",
   "metadata": {},
   "outputs": [
    {
     "name": "stdout",
     "output_type": "stream",
     "text": [
      "Sergeys total expense 235\n",
      "Sundar total expense 393\n"
     ]
    }
   ],
   "source": [
    "expenses_sergey = [30,45,70,90]\n",
    "expenses_sundar = [40,23,10,85]\n",
    "\n",
    "total = 0\n",
    "\n",
    "for expense in expenses_sergey:\n",
    "    total += expense\n",
    "\n",
    "print(\"Sergeys total expense\",total)\n",
    "\n",
    "\n",
    "for expense in expenses_sundar:\n",
    "    total += expense\n",
    "\n",
    "print(\"Sundar total expense\",total)"
   ]
  },
  {
   "cell_type": "code",
   "execution_count": 7,
   "id": "ce4e64c3-20e3-4457-b054-5e89b8a03960",
   "metadata": {},
   "outputs": [
    {
     "name": "stdout",
     "output_type": "stream",
     "text": [
      "Sergeys total expense 235\n",
      "Sundar total expense 158\n"
     ]
    }
   ],
   "source": [
    "# instead of multiple loops or conditions we can use FUNCTIONS\n",
    "\n",
    "def find_total(expenses): # Function Syntax ( Function Declaration)\n",
    "    # Always Write Documentation string when using functions\n",
    "    '''\n",
    "    This Function takes expenses list as an input and return total sum of that list\n",
    "    :param expenses: list of expenses\n",
    "    :return: Total Expense\n",
    "    '''\n",
    "    total = 0 \n",
    "    for expense in expenses:\n",
    "        total += expense\n",
    "    return total\n",
    "\n",
    "expenses_sergey = [30,45,70,90]\n",
    "expenses_sundar = [40,23,10,85]\n",
    "\n",
    "total = find_total(expenses_sergey) # Function Calling \n",
    "print(\"Sergeys total expense\",total)\n",
    "\n",
    "\n",
    "total = find_total(expenses_sundar)\n",
    "print(\"Sundar total expense\",total)\n"
   ]
  },
  {
   "cell_type": "code",
   "execution_count": 9,
   "id": "bfdb3c97-c246-47bc-9340-b01fc467d3d1",
   "metadata": {},
   "outputs": [
    {
     "name": "stdout",
     "output_type": "stream",
     "text": [
      "Radius :  5\n",
      "Height :  10\n",
      "785.0\n",
      "Radius :  5\n",
      "Height :  10\n",
      "785.0\n"
     ]
    }
   ],
   "source": [
    "# Volume of Cylinder = pi*r^2*h\n",
    "\n",
    "def find_cylinder_volume(radius,height):\n",
    "    print(\"Radius : \",radius)\n",
    "    print(\"Height : \",height)\n",
    "    volume = 3.14 * (radius**2) * height\n",
    "    return volume\n",
    "\n",
    "r = 5\n",
    "h = 10\n",
    "\n",
    "print(find_cylinder_volume(r,h)) # Sometimes we might input the order of the arguments wrong for eg (h,r)\n",
    "# So , we can use key word arguments in python ie., (radius=r,height=h)\n",
    "\n",
    "print(find_cylinder_volume(radius=r,height=h)) # this way we can reduce errors"
   ]
  },
  {
   "cell_type": "code",
   "execution_count": 12,
   "id": "c5085dd0-95e1-44d1-8d46-3cb4ac66c0da",
   "metadata": {},
   "outputs": [
    {
     "name": "stdout",
     "output_type": "stream",
     "text": [
      "Radius :  5\n",
      "Height :  7\n",
      "549.5\n"
     ]
    }
   ],
   "source": [
    "# if an argument is fixed and will not change we can use default arguments\n",
    "\n",
    "def find_cylinder_volume(radius,height = 7): # here , height is Fixed to 7\n",
    "    print(\"Radius : \",radius)\n",
    "    print(\"Height : \",height)\n",
    "    volume = 3.14 * (radius**2) * height\n",
    "    return volume\n",
    "\n",
    "r = 5\n",
    "#h = 10\n",
    "\n",
    "print(find_cylinder_volume(r)) # defaulty it took the value 7 for height "
   ]
  },
  {
   "cell_type": "code",
   "execution_count": 13,
   "id": "7c94818e-0bbd-48f8-add1-ad4e932c5601",
   "metadata": {},
   "outputs": [],
   "source": [
    "# we cant print an value outside the function it will throw an error , \n",
    "# thats why we are using return to send the output outside of functon"
   ]
  },
  {
   "cell_type": "markdown",
   "id": "8ab2c069-6145-4e12-a06a-f138261d153a",
   "metadata": {},
   "source": [
    "# Day 4 Functions Excercise"
   ]
  },
  {
   "cell_type": "code",
   "execution_count": 41,
   "id": "cb2c3b91-d7db-4b67-b085-0144bcb81262",
   "metadata": {},
   "outputs": [
    {
     "name": "stdin",
     "output_type": "stream",
     "text": [
      "Enter a Prime and Odd no  3\n"
     ]
    },
    {
     "name": "stdout",
     "output_type": "stream",
     "text": [
      "True\n"
     ]
    }
   ],
   "source": [
    "# 1.Write a python function to check if any given number is a prime number and odd number?\n",
    "\n",
    "def prime_and_odd(no):\n",
    "    if no % 2 == 0:\n",
    "        return False\n",
    "\n",
    "    if no < 2:\n",
    "        return False\n",
    "\n",
    "    for i in range(2, no//2):\n",
    "        if num%i ==0:\n",
    "            return False\n",
    "        \n",
    "    return \"True\"\n",
    "\n",
    "no = int(input(\"Enter a Prime and Odd no \"))\n",
    "print(prime_and_odd(no))"
   ]
  },
  {
   "cell_type": "code",
   "execution_count": 49,
   "id": "07b93609-6fc8-4e62-8556-e9829a6cd06d",
   "metadata": {},
   "outputs": [
    {
     "name": "stdin",
     "output_type": "stream",
     "text": [
      "n =  3\n"
     ]
    },
    {
     "name": "stdout",
     "output_type": "stream",
     "text": [
      "\n",
      "* \n",
      "* * \n",
      "* * * \n",
      " \n"
     ]
    }
   ],
   "source": [
    "# 2. Write a python function that will take n as input and print the pattern of n rows. If the n is even, then print it flipped.\n",
    "# Example:\n",
    "\n",
    "# n=3\n",
    "# *\n",
    "# * *\n",
    "# * * *\n",
    "\n",
    "# n=4\n",
    "# * * * *\n",
    "# * * *\n",
    "# * *\n",
    "# *\n",
    "\n",
    "# def is_even(num):\n",
    "#     if num%2 == 0:\n",
    "#         return True\n",
    "#     else:\n",
    "#         return False\n",
    "\n",
    "def pattern(n):\n",
    "    if n % 2 ==1:\n",
    "        for i in range(n+1):\n",
    "            for j in range(1,i+1):\n",
    "                print(\"*\",end=\" \")\n",
    "            print()\n",
    "        return \" \"\n",
    "\n",
    "    else:\n",
    "        for i in range(n,0,-1):\n",
    "            for j in range(i):\n",
    "                print(\"*\",end=\" \")\n",
    "            print()\n",
    "        return \" \"\n",
    "\n",
    "n = int(input(\"n = \"))\n",
    "print(pattern(n))\n",
    "        "
   ]
  },
  {
   "cell_type": "code",
   "execution_count": 53,
   "id": "1576c22f-d29c-46b8-9ea4-46a7266759d6",
   "metadata": {},
   "outputs": [
    {
     "name": "stdin",
     "output_type": "stream",
     "text": [
      " Hi im Yoda\n"
     ]
    },
    {
     "name": "stdout",
     "output_type": "stream",
     "text": [
      "Yoda im Hi\n"
     ]
    }
   ],
   "source": [
    "#3. Master Yoda speaks a sentence in a different order. \n",
    "# Let's say you want to convert a sentence to Yoda’s speech.  \n",
    "# Write a function named master_yoda which will take a string as input and return the output after reversing the words of the sentence.\n",
    "\n",
    "def master_yoda(string):\n",
    "    words=[]\n",
    "    for word in string.split(\" \"):\n",
    "        words.append(word)\n",
    "\n",
    "    words.reverse()\n",
    "\n",
    "    new = \" \".join(words)\n",
    "    return new\n",
    "\n",
    "string = input()\n",
    "print(master_yoda(string))\n",
    "    \n",
    "        "
   ]
  },
  {
   "cell_type": "code",
   "execution_count": 54,
   "id": "55e69aa3-40ce-40c1-845e-8609903a2cbc",
   "metadata": {},
   "outputs": [],
   "source": [
    "#4. Write a function pay_bill which will take a list of expenses, percent commission, and a special offer amount\n",
    "\n",
    "# If you don’t pass percent_comission it should be always 9.8%\n",
    "\n",
    "# The Last argument special_offer_amount is not a required argument, you don’t need to pass it. Make it an optional parameter.\n",
    "\n",
    "# If you want to give a special offer to the user, then you have to pass the third argument special_offer_amount. If the user makes the purchase greater than special_offer_amount, then give him an extra commission of 1.2%.\n",
    "\n",
    "# Calculate the final payable price of the bill and return it from the function.\n",
    "\n",
    "def pay_bill(expenses, percent_commission=0.098, offer_amount=None):\n",
    "    \n",
    "    # calculating the total bill amount\n",
    "    total_bill_amount = 0\n",
    "    for amount in  expenses:\n",
    "        total_bill_amount += amount\n",
    "\n",
    "    # calculate extra commision percentage\n",
    "    extra_commission = 0\n",
    "    if offer_amount:\n",
    "        if total_bill_amount >= offer_amount:\n",
    "            extra_commission = 0.012\n",
    "            print(f\"Congratulations! You earned 1.2% extra commission.\")\n",
    "\n",
    "    # Calculate final payable amount\n",
    "    commission_amount = total_bill_amount * (percent_commission + extra_commission)\n",
    "    final_amount = total_bill_amount - commission_amount\n",
    "    return final_amount"
   ]
  },
  {
   "cell_type": "code",
   "execution_count": 55,
   "id": "e7e9d715-56f4-498f-868a-2ed68bfbfb3f",
   "metadata": {},
   "outputs": [
    {
     "data": {
      "text/plain": [
       "1043.704"
      ]
     },
     "execution_count": 55,
     "metadata": {},
     "output_type": "execute_result"
    }
   ],
   "source": [
    "pay_bill([100, 145, 565, 322], 0.078)"
   ]
  },
  {
   "cell_type": "code",
   "execution_count": null,
   "id": "536492ee-c458-4962-bf84-8f9881cba845",
   "metadata": {},
   "outputs": [],
   "source": []
  }
 ],
 "metadata": {
  "kernelspec": {
   "display_name": "Python 3 (ipykernel)",
   "language": "python",
   "name": "python3"
  },
  "language_info": {
   "codemirror_mode": {
    "name": "ipython",
    "version": 3
   },
   "file_extension": ".py",
   "mimetype": "text/x-python",
   "name": "python",
   "nbconvert_exporter": "python",
   "pygments_lexer": "ipython3",
   "version": "3.8.10"
  }
 },
 "nbformat": 4,
 "nbformat_minor": 5
}
