{
 "cells": [
  {
   "cell_type": "markdown",
   "id": "2f66c506-a254-4bc7-ab8a-79a411903f41",
   "metadata": {},
   "source": [
    "# Day 2 Lists"
   ]
  },
  {
   "cell_type": "code",
   "execution_count": null,
   "id": "f2f1a610-e546-40be-a1a9-7a20e839d1f1",
   "metadata": {},
   "outputs": [],
   "source": [
    "# NOTE : Lists are also called Arrays"
   ]
  },
  {
   "cell_type": "code",
   "execution_count": 1,
   "id": "3cc3d9f4-56b3-4759-8cab-0ca0a7ca3eb4",
   "metadata": {},
   "outputs": [],
   "source": [
    "item1 = \"Bread\" \n",
    "item2 = \"Pasta\"\n",
    "item3 = \"Cheese\"\n",
    "item4 = \"Veggies\""
   ]
  },
  {
   "cell_type": "code",
   "execution_count": 3,
   "id": "2b0575e9-a821-4c90-9d82-6501c7a69be9",
   "metadata": {},
   "outputs": [
    {
     "data": {
      "text/plain": [
       "['Bread', 'Pasta', 'Fruits', 'Veggies']"
      ]
     },
     "execution_count": 3,
     "metadata": {},
     "output_type": "execute_result"
    }
   ],
   "source": [
    "items = [\"Bread\",\"Pasta\",\"Fruits\",\"Veggies\"]\n",
    "items"
   ]
  },
  {
   "cell_type": "code",
   "execution_count": 5,
   "id": "74e6d122-140b-40ec-8973-f01fa6a93c5b",
   "metadata": {},
   "outputs": [
    {
     "data": {
      "text/plain": [
       "'Fruits'"
      ]
     },
     "execution_count": 5,
     "metadata": {},
     "output_type": "execute_result"
    }
   ],
   "source": [
    "items[2]"
   ]
  },
  {
   "cell_type": "code",
   "execution_count": 6,
   "id": "29e9a849-b3df-417c-bba8-34ea25ad1acf",
   "metadata": {},
   "outputs": [
    {
     "data": {
      "text/plain": [
       "['Bread', 'Pasta', 'Fruits']"
      ]
     },
     "execution_count": 6,
     "metadata": {},
     "output_type": "execute_result"
    }
   ],
   "source": [
    "items[:3]"
   ]
  },
  {
   "cell_type": "code",
   "execution_count": 7,
   "id": "62f6d3fb-eff6-4991-94c0-12759b37e2a1",
   "metadata": {},
   "outputs": [
    {
     "data": {
      "text/plain": [
       "['Bread', 'Pasta', 'Fruits', 'Veggies', 'Butter']"
      ]
     },
     "execution_count": 7,
     "metadata": {},
     "output_type": "execute_result"
    }
   ],
   "source": [
    "items.append(\"Butter\") # to add an new item to the list/array ( it adds the new item in the end of the array)\n",
    "items"
   ]
  },
  {
   "cell_type": "code",
   "execution_count": 8,
   "id": "d9d075b6-7ef2-4fa2-ad78-36f4a19862f1",
   "metadata": {},
   "outputs": [
    {
     "data": {
      "text/plain": [
       "['Bread', 'Pasta', 'Fruits', 'Veggies']"
      ]
     },
     "execution_count": 8,
     "metadata": {},
     "output_type": "execute_result"
    }
   ],
   "source": [
    "items = [\"Bread\",\"Pasta\",\"Fruits\",\"Veggies\"]\n",
    "items"
   ]
  },
  {
   "cell_type": "code",
   "execution_count": 9,
   "id": "e4da4ce6-5954-4892-b88d-9dcd553f389e",
   "metadata": {},
   "outputs": [
    {
     "data": {
      "text/plain": [
       "['Bread', 'Pasta', 'Butter', 'Fruits', 'Veggies']"
      ]
     },
     "execution_count": 9,
     "metadata": {},
     "output_type": "execute_result"
    }
   ],
   "source": [
    "items.insert(2,\"Butter\") # to add an new item to list in a specific position we use .insert()\n",
    "items"
   ]
  },
  {
   "cell_type": "code",
   "execution_count": 10,
   "id": "008f9ca0-bb35-4060-9928-297c666a0494",
   "metadata": {},
   "outputs": [
    {
     "data": {
      "text/plain": [
       "['Bread', 'Butter', 'Fruits', 'Veggies']"
      ]
     },
     "execution_count": 10,
     "metadata": {},
     "output_type": "execute_result"
    }
   ],
   "source": [
    "items.remove(\"Pasta\") # to remove / delete an item we use remove()\n",
    "items"
   ]
  },
  {
   "cell_type": "code",
   "execution_count": 11,
   "id": "cbacbef0-aac0-4e0b-aa15-800173acb26e",
   "metadata": {},
   "outputs": [
    {
     "data": {
      "text/plain": [
       "True"
      ]
     },
     "execution_count": 11,
     "metadata": {},
     "output_type": "execute_result"
    }
   ],
   "source": [
    "\"Pasta\" not in items"
   ]
  },
  {
   "cell_type": "code",
   "execution_count": 12,
   "id": "18ddcd77-9b96-485c-8cc9-85029af23f8a",
   "metadata": {},
   "outputs": [
    {
     "data": {
      "text/plain": [
       "True"
      ]
     },
     "execution_count": 12,
     "metadata": {},
     "output_type": "execute_result"
    }
   ],
   "source": [
    "\"Butter\" in items"
   ]
  },
  {
   "cell_type": "code",
   "execution_count": 13,
   "id": "b22a4b49-5ba4-4c2c-9252-79c2e9b739aa",
   "metadata": {},
   "outputs": [
    {
     "data": {
      "text/plain": [
       "[30, 600, 150, 200]"
      ]
     },
     "execution_count": 13,
     "metadata": {},
     "output_type": "execute_result"
    }
   ],
   "source": [
    "expenses = [30,600,150,200]\n",
    "expenses"
   ]
  },
  {
   "cell_type": "code",
   "execution_count": 15,
   "id": "a86090e5-770c-4389-8654-1b2bbd8037b4",
   "metadata": {},
   "outputs": [
    {
     "data": {
      "text/plain": [
       "[30, 150, 200, 600]"
      ]
     },
     "execution_count": 15,
     "metadata": {},
     "output_type": "execute_result"
    }
   ],
   "source": [
    "expenses.sort() # to sort the items in order\n",
    "expenses"
   ]
  },
  {
   "cell_type": "code",
   "execution_count": 16,
   "id": "cc8d000e-7b33-4982-826e-3d57f02cd822",
   "metadata": {},
   "outputs": [
    {
     "data": {
      "text/plain": [
       "['Zebra', 'Bro', 'Apple']"
      ]
     },
     "execution_count": 16,
     "metadata": {},
     "output_type": "execute_result"
    }
   ],
   "source": [
    "my_list=[\"Zebra\",\"Bro\",\"Apple\"] # sorts by alphabet order\n",
    "my_list"
   ]
  },
  {
   "cell_type": "code",
   "execution_count": 17,
   "id": "8721213f-2cde-4a5d-b148-4081e667d7d0",
   "metadata": {},
   "outputs": [
    {
     "data": {
      "text/plain": [
       "['Apple', 'Bro', 'Zebra']"
      ]
     },
     "execution_count": 17,
     "metadata": {},
     "output_type": "execute_result"
    }
   ],
   "source": [
    "my_list.sort()\n",
    "my_list"
   ]
  },
  {
   "cell_type": "code",
   "execution_count": 18,
   "id": "8c3a2f6e-5ef2-40e2-9eae-4a1ebb355a80",
   "metadata": {},
   "outputs": [
    {
     "data": {
      "text/plain": [
       "['Bread', 'Fruits', 'Butter', 'Shampoo', 'Soap']"
      ]
     },
     "execution_count": 18,
     "metadata": {},
     "output_type": "execute_result"
    }
   ],
   "source": [
    "food_items= [\"Bread\",\"Fruits\",\"Butter\"]\n",
    "bath_items = [\"Shampoo\",\"Soap\"]\n",
    "all_items = food_items + bath_items\n",
    "all_items"
   ]
  },
  {
   "cell_type": "code",
   "execution_count": 19,
   "id": "9c55fb21-2185-4b5c-b826-2801fe15658b",
   "metadata": {},
   "outputs": [
    {
     "data": {
      "text/plain": [
       "5"
      ]
     },
     "execution_count": 19,
     "metadata": {},
     "output_type": "execute_result"
    }
   ],
   "source": [
    "len(all_items)"
   ]
  },
  {
   "cell_type": "code",
   "execution_count": 20,
   "id": "b8608458-5050-4883-88e0-75d978a12c2d",
   "metadata": {},
   "outputs": [
    {
     "data": {
      "text/plain": [
       "['__add__',\n",
       " '__class__',\n",
       " '__contains__',\n",
       " '__delattr__',\n",
       " '__delitem__',\n",
       " '__dir__',\n",
       " '__doc__',\n",
       " '__eq__',\n",
       " '__format__',\n",
       " '__ge__',\n",
       " '__getattribute__',\n",
       " '__getitem__',\n",
       " '__gt__',\n",
       " '__hash__',\n",
       " '__iadd__',\n",
       " '__imul__',\n",
       " '__init__',\n",
       " '__init_subclass__',\n",
       " '__iter__',\n",
       " '__le__',\n",
       " '__len__',\n",
       " '__lt__',\n",
       " '__mul__',\n",
       " '__ne__',\n",
       " '__new__',\n",
       " '__reduce__',\n",
       " '__reduce_ex__',\n",
       " '__repr__',\n",
       " '__reversed__',\n",
       " '__rmul__',\n",
       " '__setattr__',\n",
       " '__setitem__',\n",
       " '__sizeof__',\n",
       " '__str__',\n",
       " '__subclasshook__',\n",
       " 'append',\n",
       " 'clear',\n",
       " 'copy',\n",
       " 'count',\n",
       " 'extend',\n",
       " 'index',\n",
       " 'insert',\n",
       " 'pop',\n",
       " 'remove',\n",
       " 'reverse',\n",
       " 'sort']"
      ]
     },
     "execution_count": 20,
     "metadata": {},
     "output_type": "execute_result"
    }
   ],
   "source": [
    "dir(all_items)"
   ]
  },
  {
   "cell_type": "code",
   "execution_count": 21,
   "id": "2b2e6299-9200-4ee7-861a-f152db8b8af5",
   "metadata": {},
   "outputs": [
    {
     "data": {
      "text/plain": [
       "['Bread', 'Butter', 'Fruits', 'Veggies']"
      ]
     },
     "execution_count": 21,
     "metadata": {},
     "output_type": "execute_result"
    }
   ],
   "source": [
    "items"
   ]
  },
  {
   "cell_type": "code",
   "execution_count": 24,
   "id": "0c891c71-9d7a-4f8a-b1ec-effbfaa06f21",
   "metadata": {},
   "outputs": [
    {
     "data": {
      "text/plain": [
       "['Veggies', 'Fruits', 'Butter', 'Bread']"
      ]
     },
     "execution_count": 24,
     "metadata": {},
     "output_type": "execute_result"
    }
   ],
   "source": [
    "items.reverse()\n",
    "items"
   ]
  },
  {
   "cell_type": "code",
   "execution_count": 25,
   "id": "d4d3cc62-f490-43f9-9e2c-805c6b91e282",
   "metadata": {},
   "outputs": [
    {
     "data": {
      "text/plain": [
       "['car', 10, True]"
      ]
     },
     "execution_count": 25,
     "metadata": {},
     "output_type": "execute_result"
    }
   ],
   "source": [
    "random = [\"car\",10,True] # here all elements are of different datatypes so this is an heterogeneous List\n",
    "random"
   ]
  },
  {
   "cell_type": "markdown",
   "id": "9c3b7a99-71c3-47fb-a298-7699f79db3a3",
   "metadata": {},
   "source": [
    "# List - Excercise"
   ]
  },
  {
   "cell_type": "code",
   "execution_count": 34,
   "id": "a53d1d03-e1f3-4846-945c-273423e719da",
   "metadata": {},
   "outputs": [
    {
     "data": {
      "text/plain": [
       "['Iron Man', 'Captain America', 'Black Widow', 'Hulk', 'Thor', 'Hawkeye']"
      ]
     },
     "execution_count": 34,
     "metadata": {},
     "output_type": "execute_result"
    }
   ],
   "source": [
    "#You are a Marvel fan and created a list of superheroes.\n",
    "\n",
    "avengers=[\"Iron Man\",\"Captain America\",\"Black Widow\",\"Hulk\",\"Thor\",\"Hawkeye\"]\n",
    "avengers"
   ]
  },
  {
   "cell_type": "code",
   "execution_count": 42,
   "id": "4e0493dc-6cd6-48b8-98bc-ba822892e0ba",
   "metadata": {},
   "outputs": [
    {
     "data": {
      "text/plain": [
       "6"
      ]
     },
     "execution_count": 42,
     "metadata": {},
     "output_type": "execute_result"
    }
   ],
   "source": [
    "#1. Calculate how many members are in the Avengers team?\n",
    "\n",
    "len(avengers)\n"
   ]
  },
  {
   "cell_type": "code",
   "execution_count": 43,
   "id": "d38f8c63-be1f-47a8-ac91-10ed91f69a84",
   "metadata": {},
   "outputs": [
    {
     "data": {
      "text/plain": [
       "['Iron Man',\n",
       " 'Captain America',\n",
       " 'Black Widow',\n",
       " 'Hulk',\n",
       " 'Thor',\n",
       " 'Hawkeye',\n",
       " 'Spider-Man']"
      ]
     },
     "execution_count": 43,
     "metadata": {},
     "output_type": "execute_result"
    }
   ],
   "source": [
    "#2. Iron Man made Spider-Man a new member of the Avengers, add him to your list.\n",
    "\n",
    "avengers.append(\"Spider-Man\")\n",
    "avengers"
   ]
  },
  {
   "cell_type": "code",
   "execution_count": 44,
   "id": "a989bfa7-0261-4b1f-8bac-f3a1f8985f90",
   "metadata": {},
   "outputs": [
    {
     "data": {
      "text/plain": [
       "['Captain America',\n",
       " 'Iron Man',\n",
       " 'Black Widow',\n",
       " 'Hulk',\n",
       " 'Thor',\n",
       " 'Hawkeye',\n",
       " 'Spider-Man']"
      ]
     },
     "execution_count": 44,
     "metadata": {},
     "output_type": "execute_result"
    }
   ],
   "source": [
    "#3. Captain America is the leader of the Avengers, you need to add him before Iron Man, so remove him from the list and add him before Iron Man.\n",
    "\n",
    "avengers.remove(\"Captain America\")\n",
    "avengers.insert(0,\"Captain America\")\n",
    "avengers"
   ]
  },
  {
   "cell_type": "code",
   "execution_count": 46,
   "id": "9d460502-3564-485c-8675-392055fb5467",
   "metadata": {},
   "outputs": [
    {
     "data": {
      "text/plain": [
       "['Captain America',\n",
       " 'Iron Man',\n",
       " 'Hulk',\n",
       " 'Black Widow',\n",
       " 'Thor',\n",
       " 'Hawkeye',\n",
       " 'Spider-Man']"
      ]
     },
     "execution_count": 46,
     "metadata": {},
     "output_type": "execute_result"
    }
   ],
   "source": [
    "#4. You don’t like Thor and Hulk together because they get angry easily and fight with each other. So you have to separate them from each other. To separate them, either move “Black Widow” or “Hawkeye” in between them.\n",
    "\n",
    "avengers.remove(\"Black Widow\")\n",
    "avengers.insert(3,\"Black Widow\")\n",
    "avengers"
   ]
  },
  {
   "cell_type": "code",
   "execution_count": 47,
   "id": "476d4920-3ced-4166-8e5a-b39ede8ce854",
   "metadata": {},
   "outputs": [
    {
     "data": {
      "text/plain": [
       "[]"
      ]
     },
     "execution_count": 47,
     "metadata": {},
     "output_type": "execute_result"
    }
   ],
   "source": [
    "#5. After Avengers: End Game the original six avengers are retired, now you need to remove them from your list and add new superheroes like Doctor Strange, Vision, Wanda, Kate Bishop, and Ant-Man.\n",
    "\n",
    "avengers.clear()\n",
    "avengers"
   ]
  },
  {
   "cell_type": "code",
   "execution_count": 51,
   "id": "fa6386bc-26fb-4422-9a7d-ab54e87dfab7",
   "metadata": {},
   "outputs": [
    {
     "data": {
      "text/plain": [
       "['Doctor Strange', 'Vision', 'Wanda', 'Kate Bishop', 'Ant-Man']"
      ]
     },
     "execution_count": 51,
     "metadata": {},
     "output_type": "execute_result"
    }
   ],
   "source": [
    "avengers= [\"Doctor Strange\",\"Vision\",\"Wanda\",\"Kate Bishop\",\"Ant-Man\"]\n",
    "avengers"
   ]
  },
  {
   "cell_type": "code",
   "execution_count": 52,
   "id": "1ec60e20-6db4-4786-bcd7-feb6c5fbae94",
   "metadata": {},
   "outputs": [
    {
     "data": {
      "text/plain": [
       "['Ant-Man', 'Doctor Strange', 'Kate Bishop', 'Vision', 'Wanda']"
      ]
     },
     "execution_count": 52,
     "metadata": {},
     "output_type": "execute_result"
    }
   ],
   "source": [
    "#6. As “Captain America” is also retired and now currently, no one is the leader, so sort the list in alphabetical order. Whoever will come at the 0th index will become the Leader. (BONUS: can you guess who will become the leader)\n",
    "\n",
    "avengers.sort()\n",
    "avengers"
   ]
  },
  {
   "cell_type": "code",
   "execution_count": null,
   "id": "5da475b5-3702-4909-b50d-8603160ee93d",
   "metadata": {},
   "outputs": [],
   "source": []
  }
 ],
 "metadata": {
  "kernelspec": {
   "display_name": "Python 3 (ipykernel)",
   "language": "python",
   "name": "python3"
  },
  "language_info": {
   "codemirror_mode": {
    "name": "ipython",
    "version": 3
   },
   "file_extension": ".py",
   "mimetype": "text/x-python",
   "name": "python",
   "nbconvert_exporter": "python",
   "pygments_lexer": "ipython3",
   "version": "3.8.10"
  }
 },
 "nbformat": 4,
 "nbformat_minor": 5
}
