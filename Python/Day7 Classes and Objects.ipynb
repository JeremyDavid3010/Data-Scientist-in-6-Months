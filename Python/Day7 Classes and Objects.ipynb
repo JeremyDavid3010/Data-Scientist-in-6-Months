{
 "cells": [
  {
   "cell_type": "markdown",
   "id": "fc455ed4-5d63-43ef-ab10-3ea89ae6addb",
   "metadata": {},
   "source": [
    "# Day 7 Classes and Objects"
   ]
  },
  {
   "cell_type": "code",
   "execution_count": 13,
   "id": "0832df13-5694-499c-8b3c-c3ed317c2ef1",
   "metadata": {},
   "outputs": [],
   "source": [
    "import datetime\n"
   ]
  },
  {
   "cell_type": "code",
   "execution_count": 1,
   "id": "98ec1e67-e51e-4965-b64a-ea72999f1b59",
   "metadata": {},
   "outputs": [],
   "source": [
    "virat = {'firstname':'virat', # Here we have used dictionary to store the details of the player\n",
    "        'lastname':'kohli',\n",
    "        'birth_yr':1988,\n",
    "        'scores':[]}"
   ]
  },
  {
   "cell_type": "code",
   "execution_count": 2,
   "id": "02a2faf9-2037-496a-99ad-4bf34bc4d8f6",
   "metadata": {},
   "outputs": [],
   "source": [
    "david = {'firstname':'david', # Here we have used another dict to store the data \n",
    "        'lastname':'warner',\n",
    "        'birth_yr':1986,\n",
    "        'scores':[]}"
   ]
  },
  {
   "cell_type": "code",
   "execution_count": 4,
   "id": "02b51ece-e63b-4fb1-bc60-fdb3e9702755",
   "metadata": {},
   "outputs": [],
   "source": [
    "virat['scores'].append(80)\n",
    "virat['scores'].append(100)\n",
    "virat['scores'].append(0)"
   ]
  },
  {
   "cell_type": "code",
   "execution_count": 17,
   "id": "9201da37-4c64-42e6-a329-daeffaa60cf6",
   "metadata": {},
   "outputs": [
    {
     "name": "stdout",
     "output_type": "stream",
     "text": [
      "60.0\n",
      "35\n"
     ]
    }
   ],
   "source": [
    "def get_age(player):\n",
    "    now = datetime.datetime.now() # Code to get present time and date\n",
    "    return now.year - player['birth_yr']\n",
    "    # Todays Year - Birth Year\n",
    "\n",
    "def get_average_score(player):\n",
    "    return(sum(player['scores'])/len(player['scores']))\n",
    "\n",
    "print(get_average_score(virat))\n",
    "print(get_age(virat))"
   ]
  },
  {
   "cell_type": "code",
   "execution_count": 18,
   "id": "18e46045-9707-47af-acd0-5100cf7072b8",
   "metadata": {},
   "outputs": [
    {
     "name": "stdout",
     "output_type": "stream",
     "text": [
      "55.666666666666664\n",
      "37\n"
     ]
    }
   ],
   "source": [
    "david['scores'].append(35)\n",
    "david['scores'].append(120)\n",
    "david['scores'].append(12)\n",
    "\n",
    "print(get_average_score(david))\n",
    "print(get_age(david))"
   ]
  },
  {
   "cell_type": "code",
   "execution_count": null,
   "id": "fb06b300-aa34-41cb-8e32-cac8340f86ed",
   "metadata": {},
   "outputs": [],
   "source": [
    "# Till now we used only Functions and did an simple sports person analysis \n",
    "# but we can also do this with CLASSES AND OBJECTS "
   ]
  },
  {
   "cell_type": "code",
   "execution_count": null,
   "id": "b9c3ce0a-2988-4769-8d58-95f6598198cf",
   "metadata": {},
   "outputs": [],
   "source": [
    "class CrickeyPlayer: # Syntax - class class_name\n",
    "    def __init__(self): # this is an default function , and this is where we initialize the properties of our class\n",
    "        self.first_name = ''\n",
    "        self.last_name = ''\n",
    "        self.birth_year = 0\n",
    "        self.team = ''\n",
    "        self.scores = [] \n",
    "# This is an Basic Class with all the necessary attributes with empty values\n",
    "\n",
    "# Gives set of Values to this class is called Object \n",
    "# -> Classes has 2 things - Properties and Methods "
   ]
  },
  {
   "cell_type": "code",
   "execution_count": 41,
   "id": "9c4f7c5d-c23e-486b-b05d-a435b5115805",
   "metadata": {},
   "outputs": [
    {
     "name": "stdout",
     "output_type": "stream",
     "text": [
      "kohli\n",
      "35\n",
      "60.0\n",
      "warner\n",
      "37\n",
      "48.333333333333336\n",
      "False\n",
      "True\n"
     ]
    }
   ],
   "source": [
    "class CrickeyPlayer: \n",
    "    def __init__(self,fname,lname,yr,team): # -> Constructor , Initialize the necessary variables\n",
    "        # and when ever we want to access the properties under this func we have to use ' self ' \n",
    "        self.first_name = fname  # -> Property of the function\n",
    "        self.last_name = lname # -> Property of the function\n",
    "        self.birth_year = yr # -> Property of the function\n",
    "        self.team = team # -> Property of the function\n",
    "        self.scores = [] # -> Property of the function\n",
    "\n",
    "    def get_age(self): # -> Instance Method\n",
    "        now = datetime.datetime.now() \n",
    "        return now.year - self.birth_year \n",
    "\n",
    "    def add_score(self,score): # -> instance Method ...\n",
    "        self.scores.append(score)\n",
    "\n",
    "    def get_avg_score(self):\n",
    "        return sum(self.scores)/len(self.scores)\n",
    "\n",
    "    def __lt__(self,other): # lt stands for less than , gt is for greater than #\n",
    "        my_score = self.get_avg_score()                                        # This is Operation Overloading\n",
    "        other_score = other.get_avg_score()                                    #\n",
    "        return my_score < other_score                                          #\n",
    "\n",
    "    def __gt__(self,other):\n",
    "        my_score = self.get_avg_score()\n",
    "        other_score = other.get_avg_score()\n",
    "        return my_score > other_score\n",
    "                                                     #\n",
    "virat = CrickeyPlayer('virat','kohli',1988,'India')  ###\n",
    "virat.add_score(80)                                  #### This Totally is an Object ,which gives values to the \n",
    "virat.add_score(100)                                 ###  Methods in the Class\n",
    "virat.add_score(0)                                   #\n",
    "\n",
    "david = CrickeyPlayer('david','warner',1986,'Australia') \n",
    "david.add_score(37)\n",
    "david.add_score(23)\n",
    "david.add_score(85)\n",
    "\n",
    "# the class object is instantiated meaning we have assigned the values for the objects\n",
    "print(virat.last_name)\n",
    "print(virat.get_age())\n",
    "print(virat.get_avg_score())\n",
    "\n",
    "print(david.last_name)\n",
    "print(david.get_age())\n",
    "print(david.get_avg_score())\n",
    "\n",
    "print(virat < david)\n",
    "\n",
    "print(virat > david)"
   ]
  },
  {
   "cell_type": "markdown",
   "id": "ce0993f6-163a-4043-95f3-7fb5405d6c3f",
   "metadata": {},
   "source": [
    "# Day 7 Classes and Objects Excercise"
   ]
  },
  {
   "cell_type": "code",
   "execution_count": 52,
   "id": "25d8eb63-5abe-4a55-a563-80d7fc1406e4",
   "metadata": {},
   "outputs": [
    {
     "name": "stdout",
     "output_type": "stream",
     "text": [
      "{'Name': 'Tony Stark', 'Age': 35, 'Gender': 'Male', 'Super Power': 'Technology', 'Weapon': 'Armour'}\n"
     ]
    }
   ],
   "source": [
    "# 1. Avengers is a Marvel’s American Superheroes team, and if you are a fan of avengers, \n",
    "# recently you have learned about classes and objects in your python course. \n",
    "# Now you want to showcase your programming skills by representing the Avengers team using classes. \n",
    "# Create a class called Avenger and create these six superheroes using this class.\n",
    "\n",
    "# super_heroes = [\"Captain America\", \"Iron Man\", \"Black Widow\", \"Hulk\", \"Thor\", \"Hawkeye\"]\n",
    "\n",
    "# Your Avenger class should have these properties:\n",
    "\n",
    "# Name\n",
    "# Age\n",
    "# Gender\n",
    "# Super Power\n",
    "# Weapon\n",
    "# Captain America has Super strength, Iron Man has Technology, Black Widow is superhuman, \n",
    "# Hulk has Unlimited Strength, Thor has super Energy and Hawkeye has fighting skills as superpowers.\n",
    "\n",
    "# Weapons: Shield, Armor, Batons, No Weapon for hulk, Mjölnir, Bow, and Arrows\n",
    "\n",
    "# Create methods to get the information about each superhero\n",
    "\n",
    "# Create a method is_leader() which will tell if the superhero is a leader or not."
   ]
  },
  {
   "cell_type": "code",
   "execution_count": 59,
   "id": "f9eb4eca-2191-4466-9cc7-0ab81e6ae4f1",
   "metadata": {},
   "outputs": [
    {
     "name": "stdout",
     "output_type": "stream",
     "text": [
      "\n",
      "        Avenger Profile:\n",
      "\n",
      "        Name:   Tony Stark\n",
      "        Age:    35\n",
      "        Gender: Male\n",
      "        \n",
      "        Has Armour weapon and has Technology super Power. \n",
      "        \n",
      "\n",
      "        Avenger Profile:\n",
      "\n",
      "        Name:   Bruce Banner\n",
      "        Age:    40\n",
      "        Gender: Male\n",
      "        \n",
      "        Has No weapon and has Unlimited Strength super Power. \n",
      "        \n"
     ]
    }
   ],
   "source": [
    "# Main Class:\n",
    "\n",
    "class Avenger:\n",
    "    def __init__(self,name,age,gender,suppow,weap): # Main Constructor \n",
    "        self.name = name  \n",
    "        self.age = age\n",
    "        self.gender = gender\n",
    "        self.super_power = suppow\n",
    "        self.weapon = weap\n",
    "    \n",
    "    def get_info(self): # Function to get the information about the Avengers\n",
    "        return f\"\"\"\n",
    "        Avenger Profile:\n",
    "\n",
    "        Name:   {self.name}\n",
    "        Age:    {self.age}\n",
    "        Gender: {self.gender}\n",
    "        \n",
    "        Has {self.weapon} weapon and has {self.super_power} super Power. \n",
    "        \"\"\" \n",
    "\n",
    "    #def is_leader(self):\n",
    "        \n",
    "\n",
    "Captian_america = Avenger('Steve Rogers',100,'Male','Super strength','Shield')\n",
    "\n",
    "Iron_Man = Avenger('Tony Stark',35,'Male','Technology','Armour')\n",
    "\n",
    "Black_widow = Avenger('Natasha Romanoff',28,'Female','Superhuman','Batons')\n",
    "\n",
    "Hulk = Avenger('Bruce Banner',40,'Male','Unlimited Strength','No')\n",
    "\n",
    "Thor = Avenger('Thor Odinson',80,'Male','Super Energy','Mjolnir')\n",
    "\n",
    "Hawkeye = Avenger('Clint Barton',30,'Male','Fighting Skills','Bow & Arrow')\n",
    "\n",
    "\n",
    "\n",
    "print(Iron_Man.get_info())\n",
    "\n",
    "print(Hulk.get_info())"
   ]
  },
  {
   "cell_type": "code",
   "execution_count": null,
   "id": "9463eb14-354d-4c5c-b09d-bf5a394edd84",
   "metadata": {},
   "outputs": [],
   "source": []
  }
 ],
 "metadata": {
  "kernelspec": {
   "display_name": "Python 3 (ipykernel)",
   "language": "python",
   "name": "python3"
  },
  "language_info": {
   "codemirror_mode": {
    "name": "ipython",
    "version": 3
   },
   "file_extension": ".py",
   "mimetype": "text/x-python",
   "name": "python",
   "nbconvert_exporter": "python",
   "pygments_lexer": "ipython3",
   "version": "3.8.10"
  }
 },
 "nbformat": 4,
 "nbformat_minor": 5
}
