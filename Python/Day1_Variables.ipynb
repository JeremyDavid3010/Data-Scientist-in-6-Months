{
 "cells": [
  {
   "cell_type": "markdown",
   "id": "40556877-a681-4672-9dea-95b6d5f23e0d",
   "metadata": {},
   "source": [
    "# Day-1 Variables "
   ]
  },
  {
   "cell_type": "code",
   "execution_count": 5,
   "id": "ec8b4f0d-0c20-42d0-8b50-e2c99062b520",
   "metadata": {},
   "outputs": [
    {
     "data": {
      "text/plain": [
       "'soda'"
      ]
     },
     "execution_count": 5,
     "metadata": {},
     "output_type": "execute_result"
    }
   ],
   "source": [
    "# Creating an Variable\n",
    "can=\"soda\"\n",
    "can"
   ]
  },
  {
   "cell_type": "code",
   "execution_count": 4,
   "id": "73ddbe71-9ae8-4f5e-9f62-5376fc4b99b0",
   "metadata": {},
   "outputs": [
    {
     "data": {
      "text/plain": [
       "'Beans'"
      ]
     },
     "execution_count": 4,
     "metadata": {},
     "output_type": "execute_result"
    }
   ],
   "source": [
    "# Rewriting Variable\n",
    "can=\"Beans\"\n",
    "can"
   ]
  },
  {
   "cell_type": "code",
   "execution_count": 10,
   "id": "8f9bf0a4-2f49-4cc1-8ebc-fa9b39389e05",
   "metadata": {},
   "outputs": [
    {
     "data": {
      "text/plain": [
       "str"
      ]
     },
     "execution_count": 10,
     "metadata": {},
     "output_type": "execute_result"
    }
   ],
   "source": [
    "#Getting the type of variable \n",
    "firstname=\"Jeremy\"\n",
    "type(firstname)\n"
   ]
  },
  {
   "cell_type": "code",
   "execution_count": 11,
   "id": "96ca2dc9-6dbf-40ef-9d99-1281fbd6e815",
   "metadata": {},
   "outputs": [
    {
     "data": {
      "text/plain": [
       "int"
      ]
     },
     "execution_count": 11,
     "metadata": {},
     "output_type": "execute_result"
    }
   ],
   "source": [
    "pizza=1000\n",
    "type(pizza)"
   ]
  },
  {
   "cell_type": "code",
   "execution_count": 12,
   "id": "0434dd01-220f-4c13-9f2f-2765b7dac202",
   "metadata": {},
   "outputs": [
    {
     "data": {
      "text/plain": [
       "float"
      ]
     },
     "execution_count": 12,
     "metadata": {},
     "output_type": "execute_result"
    }
   ],
   "source": [
    "icecream=30.5\n",
    "type(icecream)"
   ]
  },
  {
   "cell_type": "code",
   "execution_count": 13,
   "id": "07a22c75-0c78-43b7-a5e7-a5ac30e30525",
   "metadata": {},
   "outputs": [
    {
     "data": {
      "text/plain": [
       "1030.5"
      ]
     },
     "execution_count": 13,
     "metadata": {},
     "output_type": "execute_result"
    }
   ],
   "source": [
    "total=pizza+icecream\n",
    "total"
   ]
  },
  {
   "cell_type": "code",
   "execution_count": 14,
   "id": "5e32e15a-c0dd-4e74-8c57-930bd530c68b",
   "metadata": {},
   "outputs": [
    {
     "data": {
      "text/plain": [
       "float"
      ]
     },
     "execution_count": 14,
     "metadata": {},
     "output_type": "execute_result"
    }
   ],
   "source": [
    "type(total)"
   ]
  },
  {
   "cell_type": "code",
   "execution_count": 15,
   "id": "dbe9e6cd-9054-43ff-858f-a542ed6d7cf2",
   "metadata": {},
   "outputs": [
    {
     "data": {
      "text/plain": [
       "bool"
      ]
     },
     "execution_count": 15,
     "metadata": {},
     "output_type": "execute_result"
    }
   ],
   "source": [
    "#Boolean\n",
    "learn_python=True\n",
    "learn_fortran=False\n",
    "\n",
    "type(learn_python)"
   ]
  },
  {
   "cell_type": "code",
   "execution_count": 16,
   "id": "6b582aa4-15ae-4268-8a8b-c12d57c98cd5",
   "metadata": {},
   "outputs": [
    {
     "data": {
      "text/plain": [
       "'jalebi'"
      ]
     },
     "execution_count": 16,
     "metadata": {},
     "output_type": "execute_result"
    }
   ],
   "source": [
    "foo=\"jalebi\"\n",
    "foo"
   ]
  },
  {
   "cell_type": "code",
   "execution_count": 17,
   "id": "c4b1bd02-2e17-4e39-9469-76e535d880f4",
   "metadata": {},
   "outputs": [
    {
     "data": {
      "text/plain": [
       "'jalebi'"
      ]
     },
     "execution_count": 17,
     "metadata": {},
     "output_type": "execute_result"
    }
   ],
   "source": [
    "bar=foo\n",
    "bar"
   ]
  },
  {
   "cell_type": "code",
   "execution_count": 18,
   "id": "3c96d547-7398-4276-8579-863920f1ce36",
   "metadata": {},
   "outputs": [
    {
     "data": {
      "text/plain": [
       "2446338826288"
      ]
     },
     "execution_count": 18,
     "metadata": {},
     "output_type": "execute_result"
    }
   ],
   "source": [
    "#unique id\n",
    "id(foo)"
   ]
  },
  {
   "cell_type": "code",
   "execution_count": 19,
   "id": "465d1e54-e9da-4779-8227-f9d715a52dcb",
   "metadata": {},
   "outputs": [
    {
     "data": {
      "text/plain": [
       "2446338826288"
      ]
     },
     "execution_count": 19,
     "metadata": {},
     "output_type": "execute_result"
    }
   ],
   "source": [
    "#because foo=jalebi -> bar=foo ....both id is same\n",
    "id(bar)"
   ]
  },
  {
   "cell_type": "code",
   "execution_count": 22,
   "id": "6929b863-8089-43d4-aa5f-0e6d1c6e68e4",
   "metadata": {},
   "outputs": [],
   "source": [
    "#NOTE:\n",
    "#python mostly follows snake case of typography \n",
    "#Can't used Reserved words as an variable name (ex: True ,False)\n",
    "#Special Characters are not Allowed in variable name (ex: $x=100 )\n",
    "# Variable name must begin with an letter or an underscore ( _ )\n",
    "# Remaning Char should be a-z,A-Z , 0-9 or _"
   ]
  },
  {
   "cell_type": "code",
   "execution_count": 23,
   "id": "421af9c7-9c29-4673-95fe-4a5d906af3de",
   "metadata": {},
   "outputs": [],
   "source": [
    "# Variables - Excercise"
   ]
  },
  {
   "cell_type": "code",
   "execution_count": 28,
   "id": "9227bfeb-8f95-4b8d-9bcf-fe0d1c0fb41e",
   "metadata": {},
   "outputs": [
    {
     "name": "stdout",
     "output_type": "stream",
     "text": [
      "3.142857142857143\n"
     ]
    },
    {
     "data": {
      "text/plain": [
       "float"
      ]
     },
     "execution_count": 28,
     "metadata": {},
     "output_type": "execute_result"
    }
   ],
   "source": [
    "#1. Create a variable named pi and store the value 22/7 in it. Now check the data type of this variable.\n",
    "\n",
    "pi=22/7\n",
    "print(pi)\n",
    "type(pi)"
   ]
  },
  {
   "cell_type": "code",
   "execution_count": 26,
   "id": "cc3440b4-18e4-4afa-8c13-6047ec499ccd",
   "metadata": {},
   "outputs": [
    {
     "ename": "SyntaxError",
     "evalue": "invalid syntax (3413882600.py, line 3)",
     "output_type": "error",
     "traceback": [
      "\u001b[1;36m  Cell \u001b[1;32mIn[26], line 3\u001b[1;36m\u001b[0m\n\u001b[1;33m    for=4\u001b[0m\n\u001b[1;37m       ^\u001b[0m\n\u001b[1;31mSyntaxError\u001b[0m\u001b[1;31m:\u001b[0m invalid syntax\n"
     ]
    }
   ],
   "source": [
    "#2. Create a variable called for and assign it a value 4. See what happens and find out the reason behind the behavior that you see**.**\n",
    "\n",
    "for=4 # Since we used an reserved keyword , it shows an syntax error"
   ]
  },
  {
   "cell_type": "code",
   "execution_count": 27,
   "id": "8dc1244a-dcac-4ce1-b690-56108e51f5fd",
   "metadata": {},
   "outputs": [
    {
     "name": "stdin",
     "output_type": "stream",
     "text": [
      " 10000\n",
      " 5\n",
      " 3\n"
     ]
    },
    {
     "data": {
      "text/plain": [
       "1500.0"
      ]
     },
     "execution_count": 27,
     "metadata": {},
     "output_type": "execute_result"
    }
   ],
   "source": [
    "#3. Store the principal amount, rate of interest, and time in different variables and then calculate the Simple Interest for 3 years\n",
    "\n",
    "P = int(input()) # Principal interest \n",
    "R = int(input()) # Rate of interest\n",
    "T = int(input()) # Time\n",
    "\n",
    "Simple_Interest = (P*R*T)/100\n",
    "Simple_Interest"
   ]
  },
  {
   "cell_type": "code",
   "execution_count": 29,
   "id": "9381bf37-8bab-49f5-af5b-48c30f6725d1",
   "metadata": {},
   "outputs": [
    {
     "data": {
      "text/plain": [
       "float"
      ]
     },
     "execution_count": 29,
     "metadata": {},
     "output_type": "execute_result"
    }
   ],
   "source": [
    "type(Simple_Interest)"
   ]
  },
  {
   "cell_type": "code",
   "execution_count": 31,
   "id": "71f265c9-5284-4b37-9fc5-4fe4b672578d",
   "metadata": {},
   "outputs": [
    {
     "name": "stdout",
     "output_type": "stream",
     "text": [
      "11500.0\n"
     ]
    }
   ],
   "source": [
    "Total = Simple_Interest + P\n",
    "print(Total)"
   ]
  },
  {
   "cell_type": "code",
   "execution_count": null,
   "id": "2b26b6f1-d2f0-4a39-8062-54638f1dd179",
   "metadata": {},
   "outputs": [],
   "source": []
  }
 ],
 "metadata": {
  "kernelspec": {
   "display_name": "Python 3 (ipykernel)",
   "language": "python",
   "name": "python3"
  },
  "language_info": {
   "codemirror_mode": {
    "name": "ipython",
    "version": 3
   },
   "file_extension": ".py",
   "mimetype": "text/x-python",
   "name": "python",
   "nbconvert_exporter": "python",
   "pygments_lexer": "ipython3",
   "version": "3.8.10"
  }
 },
 "nbformat": 4,
 "nbformat_minor": 5
}
