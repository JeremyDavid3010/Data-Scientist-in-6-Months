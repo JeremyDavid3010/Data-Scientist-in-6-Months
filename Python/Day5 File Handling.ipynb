{
 "cells": [
  {
   "cell_type": "markdown",
   "id": "fbcf2699-ba0a-4ba8-a8a2-54c1ff9770fd",
   "metadata": {},
   "source": [
    "# Day 5 File handling"
   ]
  },
  {
   "cell_type": "code",
   "execution_count": 84,
   "id": "3880e1d6-0769-4c77-8f87-037fbe778a26",
   "metadata": {},
   "outputs": [
    {
     "name": "stdout",
     "output_type": "stream",
     "text": [
      "Requirement already satisfied: latex in c:\\users\\jerem\\appdata\\local\\programs\\python\\python38\\lib\\site-packages (0.7.0)\n",
      "Requirement already satisfied: tempdir in c:\\users\\jerem\\appdata\\local\\programs\\python\\python38\\lib\\site-packages (from latex) (0.7.1)\n",
      "Requirement already satisfied: data in c:\\users\\jerem\\appdata\\local\\programs\\python\\python38\\lib\\site-packages (from latex) (0.4)\n",
      "Requirement already satisfied: future in c:\\users\\jerem\\appdata\\local\\programs\\python\\python38\\lib\\site-packages (from latex) (0.18.3)\n",
      "Requirement already satisfied: shutilwhich in c:\\users\\jerem\\appdata\\local\\programs\\python\\python38\\lib\\site-packages (from latex) (1.1.0)\n",
      "Requirement already satisfied: six in c:\\users\\jerem\\appdata\\local\\programs\\python\\python38\\lib\\site-packages (from data->latex) (1.16.0)\n",
      "Requirement already satisfied: decorator in c:\\users\\jerem\\appdata\\local\\programs\\python\\python38\\lib\\site-packages (from data->latex) (5.1.1)\n",
      "Requirement already satisfied: funcsigs in c:\\users\\jerem\\appdata\\local\\programs\\python\\python38\\lib\\site-packages (from data->latex) (1.0.2)\n",
      "Note: you may need to restart the kernel to use updated packages.\n"
     ]
    },
    {
     "name": "stderr",
     "output_type": "stream",
     "text": [
      "WARNING: You are using pip version 21.1.1; however, version 23.2.1 is available.\n",
      "You should consider upgrading via the 'C:\\Users\\jerem\\AppData\\Local\\Programs\\Python\\Python38\\python.exe -m pip install --upgrade pip' command.\n"
     ]
    }
   ],
   "source": [
    "pip install latex"
   ]
  },
  {
   "cell_type": "code",
   "execution_count": 7,
   "id": "24e46843-cfb5-404f-9b10-aa1e85855627",
   "metadata": {},
   "outputs": [],
   "source": [
    "f= open(\"funny.txt\",\"r\")\n",
    "#    File name , file mode - \"r\" reading mode"
   ]
  },
  {
   "cell_type": "code",
   "execution_count": 8,
   "id": "9e3ad21e-6d4b-4771-87ed-c49ca5e6e51a",
   "metadata": {},
   "outputs": [
    {
     "name": "stdout",
     "output_type": "stream",
     "text": [
      "Stay away from those people who try to disparage your ambitions. \n",
      "\n",
      "Small minds will always do that, but great minds \n",
      "\n",
      "will give you a feeling that you can become great too  Mark Twain\n"
     ]
    }
   ],
   "source": [
    "for line in f:\n",
    "    print(line)"
   ]
  },
  {
   "cell_type": "code",
   "execution_count": 9,
   "id": "432923f5-3ada-404d-8f1f-57b7d23d109b",
   "metadata": {},
   "outputs": [],
   "source": [
    "f.close()"
   ]
  },
  {
   "cell_type": "code",
   "execution_count": 10,
   "id": "c28b2364-d735-43b3-9174-8909929ce359",
   "metadata": {},
   "outputs": [
    {
     "name": "stdout",
     "output_type": "stream",
     "text": [
      "Stay away from those people who try to disparage your ambitions. \n",
      "\n",
      "Small minds will always do that, but great minds \n",
      "\n",
      "will give you a feeling that you can become great too  Mark Twain\n"
     ]
    }
   ],
   "source": [
    "with open(\"funny.txt\",\"r\") as f: # when we use \" with \" we need not use close()\n",
    "    for line in f: \n",
    "        print(line)"
   ]
  },
  {
   "cell_type": "code",
   "execution_count": 11,
   "id": "cf211296-0358-454c-bac5-a4efd48083d2",
   "metadata": {},
   "outputs": [
    {
     "name": "stdout",
     "output_type": "stream",
     "text": [
      "['Stay away from those people who try to disparage your ambitions. \\n', 'Small minds will always do that, but great minds \\n', 'will give you a feeling that you can become great too  Mark Twain']\n"
     ]
    }
   ],
   "source": [
    "with open(\"funny.txt\",\"r\") as f:\n",
    "    lines = f.readlines() # readlines() - returns as an list \n",
    "    print(lines)"
   ]
  },
  {
   "cell_type": "code",
   "execution_count": 13,
   "id": "38fce01d-dcc4-4392-adfa-309499ec275a",
   "metadata": {},
   "outputs": [],
   "source": [
    "with open(\"love.txt\",\"w\") as p: # with mode \"w\" - write mode ( it will create an file and will write inside it )\n",
    "    p.write(\"I Love Python \")\n",
    "\n"
   ]
  },
  {
   "cell_type": "code",
   "execution_count": 17,
   "id": "b4e76bd2-bc8d-489b-ac4d-3198a081261b",
   "metadata": {},
   "outputs": [],
   "source": [
    "with open(\"love.txt\",\"a\") as p: # with mode \"a\" - append mode ( it will add the text into the file)\n",
    "    p.writelines(\" , I Love C++ \")"
   ]
  },
  {
   "cell_type": "code",
   "execution_count": 18,
   "id": "5c531402-0ef6-4a50-8b81-e60428c8ca9f",
   "metadata": {},
   "outputs": [
    {
     "name": "stdout",
     "output_type": "stream",
     "text": [
      "rohit,9\n",
      "\n",
      "shakib,56\n",
      "\n",
      "babar,56\n",
      "\n",
      "rohit,120\n",
      "\n",
      "rohit,105\n",
      "\n",
      "shakib,78\n",
      "\n",
      "rohit,140\n",
      "\n",
      "babar,45\n",
      "\n",
      "rohit,130\n",
      "\n",
      "shakib,102\n",
      "\n",
      "babar,120\n",
      "\n",
      "babar,5\n",
      "\n",
      "shakib,72\n",
      "\n",
      "babar,67\n"
     ]
    }
   ],
   "source": [
    "with open(\"scores.csv\",\"r\") as f:\n",
    "    for line in f:\n",
    "        print(line)"
   ]
  },
  {
   "cell_type": "code",
   "execution_count": 20,
   "id": "c612c41a-3706-43ec-ad4d-de7221a10239",
   "metadata": {},
   "outputs": [
    {
     "name": "stdout",
     "output_type": "stream",
     "text": [
      "rohit <class 'str'>\n",
      "shakib <class 'str'>\n",
      "babar <class 'str'>\n",
      "rohit <class 'str'>\n",
      "rohit <class 'str'>\n",
      "shakib <class 'str'>\n",
      "rohit <class 'str'>\n",
      "babar <class 'str'>\n",
      "rohit <class 'str'>\n",
      "shakib <class 'str'>\n",
      "babar <class 'str'>\n",
      "babar <class 'str'>\n",
      "shakib <class 'str'>\n",
      "babar <class 'str'>\n"
     ]
    }
   ],
   "source": [
    "with open(\"scores.csv\",\"r\") as f:\n",
    "    for line in f:\n",
    "        player,score = line.split(',')\n",
    "        print(player,type(score)) # so here it shows scores are str but scores are numbers so we need to convert it"
   ]
  },
  {
   "cell_type": "code",
   "execution_count": 21,
   "id": "a1eeb650-3b4e-4b9c-af2e-8ae28830dd6b",
   "metadata": {},
   "outputs": [
    {
     "name": "stdout",
     "output_type": "stream",
     "text": [
      "<class 'int'>\n",
      "<class 'int'>\n",
      "<class 'int'>\n",
      "<class 'int'>\n",
      "<class 'int'>\n",
      "<class 'int'>\n",
      "<class 'int'>\n",
      "<class 'int'>\n",
      "<class 'int'>\n",
      "<class 'int'>\n",
      "<class 'int'>\n",
      "<class 'int'>\n",
      "<class 'int'>\n",
      "<class 'int'>\n"
     ]
    }
   ],
   "source": [
    "with open(\"scores.csv\",\"r\") as f:\n",
    "    for line in f:\n",
    "        player,score = line.split(',')\n",
    "        score = int(score)\n",
    "        print(type(score))"
   ]
  },
  {
   "cell_type": "code",
   "execution_count": 30,
   "id": "38de3b58-23a1-43ee-8fb1-aaf544cb1904",
   "metadata": {},
   "outputs": [
    {
     "name": "stdout",
     "output_type": "stream",
     "text": [
      "rohit [9, 120, 105, 140, 130]\n",
      "rohit ==> Min: 9, Max: 140, Avg: 100.8\n",
      "shakib [56, 78, 102, 72]\n",
      "shakib ==> Min: 56, Max: 102, Avg: 77.0\n",
      "babar [56, 45, 120, 5, 67]\n",
      "babar ==> Min: 5, Max: 120, Avg: 58.6\n"
     ]
    }
   ],
   "source": [
    "player_score = {} # Creating an dictionary\n",
    "with open(\"scores.csv\",\"r\") as f:\n",
    "    for line in f:\n",
    "        player,score = line.split(',')\n",
    "        score = int(score)\n",
    "        if player in player_score:\n",
    "            player_score[player].append(score)\n",
    "        else:\n",
    "            player_score[player] = [score]\n",
    "\n",
    "for player , score_list in player_score.items():\n",
    "    print(player,score_list)\n",
    "    min_score = min(score_list)\n",
    "    max_score = max(score_list)\n",
    "    avg_score = sum(score_list)/len(score_list)\n",
    "\n",
    "    print(f\"{player} ==> Min: {min_score}, Max: {max_score}, Avg: {avg_score}\")"
   ]
  },
  {
   "cell_type": "markdown",
   "id": "bd81e0dc-f70a-460f-bf85-cd8cd246c8eb",
   "metadata": {},
   "source": [
    "# Day 5 File Handling Excercise"
   ]
  },
  {
   "cell_type": "code",
   "execution_count": 67,
   "id": "937d755d-8320-4ed0-a768-66197c65ee4b",
   "metadata": {},
   "outputs": [
    {
     "data": {
      "text/plain": [
       "<_io.TextIOWrapper name='student_marks.csv' mode='r' encoding='cp1252'>"
      ]
     },
     "execution_count": 67,
     "metadata": {},
     "output_type": "execute_result"
    }
   ],
   "source": [
    "# 1. Open the file in read mode\n",
    "sm = open(\"student_marks.csv\",\"r\")\n",
    "sm"
   ]
  },
  {
   "cell_type": "code",
   "execution_count": 68,
   "id": "4f55e682-d08d-43bc-99f6-f14e10eed6fb",
   "metadata": {},
   "outputs": [
    {
     "data": {
      "text/plain": [
       "',Gender,DOB,Maths,Physics,Chemistry,English,Biology,Economics,History,Civics\\n'"
      ]
     },
     "execution_count": 68,
     "metadata": {},
     "output_type": "execute_result"
    }
   ],
   "source": [
    "#2. Create a dictionary from the given data\n",
    "d = {}\n",
    "keys = sm.readline()\n",
    "keys"
   ]
  },
  {
   "cell_type": "code",
   "execution_count": 69,
   "id": "aa668fbd-413d-4425-b28f-474cc4ca6d18",
   "metadata": {},
   "outputs": [
    {
     "data": {
      "text/plain": [
       "['',\n",
       " 'Gender',\n",
       " 'DOB',\n",
       " 'Maths',\n",
       " 'Physics',\n",
       " 'Chemistry',\n",
       " 'English',\n",
       " 'Biology',\n",
       " 'Economics',\n",
       " 'History',\n",
       " 'Civics\\n']"
      ]
     },
     "execution_count": 69,
     "metadata": {},
     "output_type": "execute_result"
    }
   ],
   "source": [
    "keys = keys.split(',')\n",
    "keys"
   ]
  },
  {
   "cell_type": "code",
   "execution_count": 70,
   "id": "ded0e518-93b1-4889-93fa-e8a6903004ce",
   "metadata": {},
   "outputs": [
    {
     "name": "stdout",
     "output_type": "stream",
     "text": [
      "{'': [], 'Gender': [], 'DOB': [], 'Maths': [], 'Physics': [], 'Chemistry': [], 'English': [], 'Biology': [], 'Economics': [], 'History': [], 'Civics\\n': []}\n"
     ]
    }
   ],
   "source": [
    "for key in keys:\n",
    "    d[key] = []\n",
    "\n",
    "print(d)"
   ]
  },
  {
   "cell_type": "code",
   "execution_count": 71,
   "id": "5aa35c8f-6e12-4779-b094-0004c16cf71e",
   "metadata": {},
   "outputs": [
    {
     "name": "stdout",
     "output_type": "stream",
     "text": [
      "{'': ['John', 'Suresh', 'Ramesh', 'Jessica', 'Jennifer'], 'Gender': ['M', 'M', 'M', 'F', 'F'], 'DOB': ['05/04/1988', '4/5/1987', '25/5/1989', '12/8/1990', '2/9/1989'], 'Maths': ['55', '75', '25', '78', '58'], 'Physics': ['45', '55', '54', '55', '96'], 'Chemistry': ['56', '', '89', '86', '78'], 'English': ['87', '64', '76', '63', '46'], 'Biology': ['21', '90', '95', '54', '96'], 'Economics': ['52', '61', '87', '89', '77'], 'History': ['89', '58', '56', '75', '83'], 'Civics\\n': ['65\\n', '2\\n', '74\\n', '45\\n', '53']}\n"
     ]
    }
   ],
   "source": [
    "for line in sm.readlines():\n",
    "    data=line.split(',')\n",
    "    j = 0\n",
    "    for i in d:\n",
    "        d[i].append(data[j])\n",
    "        j+=1\n",
    "\n",
    "print(d)\n",
    "    "
   ]
  },
  {
   "cell_type": "code",
   "execution_count": 72,
   "id": "80fa9efa-1474-4cbc-bc3e-965167283338",
   "metadata": {},
   "outputs": [
    {
     "name": "stdout",
     "output_type": "stream",
     "text": [
      "{'': ['John', 'Suresh', 'Ramesh', 'Jessica', 'Jennifer'],\n",
      " 'Biology': ['21', '90', '95', '54', '96'],\n",
      " 'Chemistry': ['56', '', '89', '86', '78'],\n",
      " 'Civics\\n': ['65\\n', '2\\n', '74\\n', '45\\n', '53'],\n",
      " 'DOB': ['05/04/1988', '4/5/1987', '25/5/1989', '12/8/1990', '2/9/1989'],\n",
      " 'Economics': ['52', '61', '87', '89', '77'],\n",
      " 'English': ['87', '64', '76', '63', '46'],\n",
      " 'Gender': ['M', 'M', 'M', 'F', 'F'],\n",
      " 'History': ['89', '58', '56', '75', '83'],\n",
      " 'Maths': ['55', '75', '25', '78', '58'],\n",
      " 'Physics': ['45', '55', '54', '55', '96']}\n"
     ]
    }
   ],
   "source": [
    "import pprint\n",
    "pprint.pprint(d)"
   ]
  },
  {
   "cell_type": "code",
   "execution_count": 73,
   "id": "7f976b3d-87d0-4fc5-b7ad-9bb978a528c6",
   "metadata": {},
   "outputs": [
    {
     "data": {
      "text/plain": [
       "dict_values([['John', 'Suresh', 'Ramesh', 'Jessica', 'Jennifer'], ['M', 'M', 'M', 'F', 'F'], ['05/04/1988', '4/5/1987', '25/5/1989', '12/8/1990', '2/9/1989'], ['55', '75', '25', '78', '58'], ['45', '55', '54', '55', '96'], ['56', '', '89', '86', '78'], ['87', '64', '76', '63', '46'], ['21', '90', '95', '54', '96'], ['52', '61', '87', '89', '77'], ['89', '58', '56', '75', '83'], ['65\\n', '2\\n', '74\\n', '45\\n', '53']])"
      ]
     },
     "execution_count": 73,
     "metadata": {},
     "output_type": "execute_result"
    }
   ],
   "source": [
    "d.values()"
   ]
  },
  {
   "cell_type": "code",
   "execution_count": 82,
   "id": "b1c466fa-83b9-4529-8eb3-2f0ab7ed7c2b",
   "metadata": {},
   "outputs": [
    {
     "name": "stdout",
     "output_type": "stream",
     "text": [
      "[940, 810, 1112, 1090, 1174]\n"
     ]
    }
   ],
   "source": [
    "#3. Add a new field to the dictionary total\\_marks and store the total marks of the students.\n",
    "\n",
    "d['Total Marks'] = [0]*5\n",
    "for i in range(5):\n",
    "    for key in d:\n",
    "        try:\n",
    "            d['Total Marks'][i] += int(d[key][i])\n",
    "        except:\n",
    "            pass\n",
    "print(d['Total Marks'])"
   ]
  }
 ],
 "metadata": {
  "kernelspec": {
   "display_name": "Python 3 (ipykernel)",
   "language": "python",
   "name": "python3"
  },
  "language_info": {
   "codemirror_mode": {
    "name": "ipython",
    "version": 3
   },
   "file_extension": ".py",
   "mimetype": "text/x-python",
   "name": "python",
   "nbconvert_exporter": "python",
   "pygments_lexer": "ipython3",
   "version": "3.8.10"
  }
 },
 "nbformat": 4,
 "nbformat_minor": 5
}
