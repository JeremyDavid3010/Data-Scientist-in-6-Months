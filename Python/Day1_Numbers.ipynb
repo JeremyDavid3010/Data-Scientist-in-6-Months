{
 "cells": [
  {
   "cell_type": "markdown",
   "id": "e3c32c3c-cdaf-4cd4-9333-4b5f1f259506",
   "metadata": {},
   "source": [
    "# Day1 Numbers"
   ]
  },
  {
   "cell_type": "code",
   "execution_count": 4,
   "id": "63bf459a-d959-47d0-80e3-469b6f2404c3",
   "metadata": {},
   "outputs": [],
   "source": [
    "base = 10\n",
    "height = 7.5"
   ]
  },
  {
   "cell_type": "code",
   "execution_count": 5,
   "id": "ffa4ee6f-7712-4c9e-b5c9-5ee375c6e357",
   "metadata": {},
   "outputs": [
    {
     "data": {
      "text/plain": [
       "int"
      ]
     },
     "execution_count": 5,
     "metadata": {},
     "output_type": "execute_result"
    }
   ],
   "source": [
    "type(base)"
   ]
  },
  {
   "cell_type": "code",
   "execution_count": 6,
   "id": "d4ce5a79-4f46-4a37-a9f7-59a12bb6b024",
   "metadata": {},
   "outputs": [
    {
     "data": {
      "text/plain": [
       "float"
      ]
     },
     "execution_count": 6,
     "metadata": {},
     "output_type": "execute_result"
    }
   ],
   "source": [
    "type(height)"
   ]
  },
  {
   "cell_type": "code",
   "execution_count": 7,
   "id": "496af8fe-830a-4eb8-a015-fe47c2dbd5c1",
   "metadata": {},
   "outputs": [
    {
     "data": {
      "text/plain": [
       "37.5"
      ]
     },
     "execution_count": 7,
     "metadata": {},
     "output_type": "execute_result"
    }
   ],
   "source": [
    "area = (1/2) * base * height \n",
    "area"
   ]
  },
  {
   "cell_type": "code",
   "execution_count": 8,
   "id": "4c00e035-cab3-4b7d-baf2-2f922ec46d5f",
   "metadata": {},
   "outputs": [
    {
     "data": {
      "text/plain": [
       "3.3333333333333335"
      ]
     },
     "execution_count": 8,
     "metadata": {},
     "output_type": "execute_result"
    }
   ],
   "source": [
    "10/3"
   ]
  },
  {
   "cell_type": "code",
   "execution_count": 9,
   "id": "f4285f20-caf4-49a7-b60b-4da437f33a07",
   "metadata": {},
   "outputs": [
    {
     "data": {
      "text/plain": [
       "3"
      ]
     },
     "execution_count": 9,
     "metadata": {},
     "output_type": "execute_result"
    }
   ],
   "source": [
    "10//3"
   ]
  },
  {
   "cell_type": "code",
   "execution_count": 10,
   "id": "bb5a9c95-b2a0-4129-9e83-4dabe1374f53",
   "metadata": {},
   "outputs": [
    {
     "data": {
      "text/plain": [
       "2"
      ]
     },
     "execution_count": 10,
     "metadata": {},
     "output_type": "execute_result"
    }
   ],
   "source": [
    "17%3 # Modulus Operator"
   ]
  },
  {
   "cell_type": "code",
   "execution_count": 12,
   "id": "6c2d3b76-9c54-4a4b-8ad6-b08e758538f1",
   "metadata": {},
   "outputs": [
    {
     "data": {
      "text/plain": [
       "27"
      ]
     },
     "execution_count": 12,
     "metadata": {},
     "output_type": "execute_result"
    }
   ],
   "source": [
    "3**3 # 3 Square 3"
   ]
  },
  {
   "cell_type": "code",
   "execution_count": 13,
   "id": "39b7da67-5c3e-445c-b442-67a439da5a88",
   "metadata": {},
   "outputs": [],
   "source": [
    "#NOTE:\n",
    "# Order of Precedence is () , "
   ]
  },
  {
   "cell_type": "code",
   "execution_count": 15,
   "id": "ff376309-ca12-45fb-b516-d87660f81d26",
   "metadata": {},
   "outputs": [
    {
     "data": {
      "text/plain": [
       "24"
      ]
     },
     "execution_count": 15,
     "metadata": {},
     "output_type": "execute_result"
    }
   ],
   "source": [
    "10+(2*7)"
   ]
  },
  {
   "cell_type": "code",
   "execution_count": 16,
   "id": "ac5f87ed-6021-4afb-bc64-1ec93a2d3a49",
   "metadata": {},
   "outputs": [
    {
     "data": {
      "text/plain": [
       "84"
      ]
     },
     "execution_count": 16,
     "metadata": {},
     "output_type": "execute_result"
    }
   ],
   "source": [
    "(10+2)*7"
   ]
  },
  {
   "cell_type": "code",
   "execution_count": 17,
   "id": "8267f2c9-e0ce-4174-aa51-f7a732f5acf3",
   "metadata": {},
   "outputs": [
    {
     "data": {
      "text/plain": [
       "23000.0"
      ]
     },
     "execution_count": 17,
     "metadata": {},
     "output_type": "execute_result"
    }
   ],
   "source": [
    "foo=2.3e4 # is = 2.3 x 10^4 (+ve Exponential)\n",
    "foo"
   ]
  },
  {
   "cell_type": "code",
   "execution_count": 19,
   "id": "dfe00078-b413-4751-af7f-01f90caf43d1",
   "metadata": {},
   "outputs": [
    {
     "data": {
      "text/plain": [
       "0.00023"
      ]
     },
     "execution_count": 19,
     "metadata": {},
     "output_type": "execute_result"
    }
   ],
   "source": [
    "bar=2.3e-4 # = 2.3 x 10^-4 (-ve Exponential)\n",
    "bar"
   ]
  },
  {
   "cell_type": "code",
   "execution_count": 20,
   "id": "6e8821e6-c883-4233-9c08-3f4b1d472390",
   "metadata": {},
   "outputs": [],
   "source": [
    "food = 120.34\n",
    "rent = 500.6\n",
    "utilities = 300.5"
   ]
  },
  {
   "cell_type": "code",
   "execution_count": 21,
   "id": "bc7a8138-ff65-461c-b3fb-4372b289eac2",
   "metadata": {},
   "outputs": [
    {
     "data": {
      "text/plain": [
       "921.44"
      ]
     },
     "execution_count": 21,
     "metadata": {},
     "output_type": "execute_result"
    }
   ],
   "source": [
    "total = food+rent+utilities\n",
    "total"
   ]
  },
  {
   "cell_type": "code",
   "execution_count": 22,
   "id": "d00373dd-63b6-4505-9622-9d279293b44c",
   "metadata": {},
   "outputs": [
    {
     "data": {
      "text/plain": [
       "921"
      ]
     },
     "execution_count": 22,
     "metadata": {},
     "output_type": "execute_result"
    }
   ],
   "source": [
    "round(total) # rounds off thereby removing the decimal"
   ]
  },
  {
   "cell_type": "code",
   "execution_count": 23,
   "id": "d93ce447-b4f4-42d6-9c21-8583ea604f29",
   "metadata": {},
   "outputs": [
    {
     "data": {
      "text/plain": [
       "1000"
      ]
     },
     "execution_count": 23,
     "metadata": {},
     "output_type": "execute_result"
    }
   ],
   "source": [
    "income = 10000\n",
    "expenses = 9000\n",
    "savings = income - expenses\n",
    "savings"
   ]
  },
  {
   "cell_type": "code",
   "execution_count": 25,
   "id": "473d4e61-3262-4098-b751-dba7c7d0a606",
   "metadata": {},
   "outputs": [
    {
     "data": {
      "text/plain": [
       "'1001'"
      ]
     },
     "execution_count": 25,
     "metadata": {},
     "output_type": "execute_result"
    }
   ],
   "source": [
    "format(9,'b') # Binary No of 5"
   ]
  },
  {
   "cell_type": "code",
   "execution_count": 28,
   "id": "a0121b5e-d845-4afd-a30e-71a99263de25",
   "metadata": {},
   "outputs": [
    {
     "name": "stdout",
     "output_type": "stream",
     "text": [
      "1200.0\n",
      "<class 'float'>\n"
     ]
    }
   ],
   "source": [
    "a= 1.2e3\n",
    "print(a)\n",
    "print(type(a))"
   ]
  },
  {
   "cell_type": "code",
   "execution_count": 29,
   "id": "f616bf82-8624-48ab-b7a6-1964ed00040b",
   "metadata": {},
   "outputs": [],
   "source": [
    "# Number Excercise"
   ]
  },
  {
   "cell_type": "code",
   "execution_count": 30,
   "id": "7b14380c-0030-4b6e-b934-6ad55e831135",
   "metadata": {},
   "outputs": [
    {
     "data": {
      "text/plain": [
       "'221'"
      ]
     },
     "execution_count": 30,
     "metadata": {},
     "output_type": "execute_result"
    }
   ],
   "source": [
    "#1. Remember the format() function we used in the last video?? Now pass 145 and ‘o’ in the function and see what it returns. Try to find out which representation it is.\n",
    "\n",
    "format(145,'o') # 'o' Gives the Octal representation of 145"
   ]
  },
  {
   "cell_type": "code",
   "execution_count": 38,
   "id": "3db00547-c2c7-4049-87b1-7d4749968170",
   "metadata": {},
   "outputs": [
    {
     "data": {
      "text/plain": [
       "22176.0"
      ]
     },
     "execution_count": 38,
     "metadata": {},
     "output_type": "execute_result"
    }
   ],
   "source": [
    "#2. There is a circular pond in a village. This pond has a radius of 84 meters. Can you find the area of the pond? (Bonus: If there is exactly 1.4 liter of water in a square meter, what is the total amount of water in the pond?)\n",
    "\n",
    "rad = 84\n",
    "pi = 22/7\n",
    "\n",
    "Circle_Area= pi* rad**2\n",
    "Circle_Area"
   ]
  },
  {
   "cell_type": "code",
   "execution_count": 40,
   "id": "54437379-3752-4857-97fe-caf61bf30729",
   "metadata": {},
   "outputs": [
    {
     "name": "stdout",
     "output_type": "stream",
     "text": [
      "31046.399999999998\n"
     ]
    }
   ],
   "source": [
    "per_meter_sq = 1.4\n",
    "total_water = Circle_Area * per_meter_sq\n",
    "print(total_water)"
   ]
  },
  {
   "cell_type": "code",
   "execution_count": 35,
   "id": "ffd129fd-b514-428f-aa87-2636ed212466",
   "metadata": {},
   "outputs": [
    {
     "data": {
      "text/plain": [
       "1.1666666666666667"
      ]
     },
     "execution_count": 35,
     "metadata": {},
     "output_type": "execute_result"
    }
   ],
   "source": [
    "#3. If you cross a 490-meter-long street in 7 minutes, then what is your speed in meters per second? Print your answer without any decimal point in it.\n",
    "\n",
    "dist = 490\n",
    "time = 7 * 60 # (7mins x 60 sec)\n",
    "\n",
    "speed = dist/time\n",
    "speed"
   ]
  },
  {
   "cell_type": "code",
   "execution_count": 36,
   "id": "e24eb91b-0bc9-47d0-9df7-e63523ac64d0",
   "metadata": {},
   "outputs": [
    {
     "data": {
      "text/plain": [
       "1"
      ]
     },
     "execution_count": 36,
     "metadata": {},
     "output_type": "execute_result"
    }
   ],
   "source": [
    "round(speed)"
   ]
  }
 ],
 "metadata": {
  "kernelspec": {
   "display_name": "Python 3 (ipykernel)",
   "language": "python",
   "name": "python3"
  },
  "language_info": {
   "codemirror_mode": {
    "name": "ipython",
    "version": 3
   },
   "file_extension": ".py",
   "mimetype": "text/x-python",
   "name": "python",
   "nbconvert_exporter": "python",
   "pygments_lexer": "ipython3",
   "version": "3.8.10"
  }
 },
 "nbformat": 4,
 "nbformat_minor": 5
}
