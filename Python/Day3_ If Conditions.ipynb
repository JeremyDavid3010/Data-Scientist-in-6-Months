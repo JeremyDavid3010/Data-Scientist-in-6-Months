{
 "cells": [
  {
   "cell_type": "markdown",
   "id": "6371b36a-6de2-4171-8b51-e4c61b5532c4",
   "metadata": {},
   "source": [
    "# Day3 If - Conditions"
   ]
  },
  {
   "cell_type": "code",
   "execution_count": 8,
   "id": "7a463229-2577-4f21-b124-ff856625502e",
   "metadata": {},
   "outputs": [
    {
     "name": "stdin",
     "output_type": "stream",
     "text": [
      "Enter a Number: 30\n"
     ]
    },
    {
     "name": "stdout",
     "output_type": "stream",
     "text": [
      "<class 'str'>\n"
     ]
    }
   ],
   "source": [
    " n = input(\"Enter a Number:\")\n",
    "print(type(n))"
   ]
  },
  {
   "cell_type": "code",
   "execution_count": 9,
   "id": "85a819f9-f889-4d3a-9189-52ea901cdcde",
   "metadata": {},
   "outputs": [
    {
     "name": "stdin",
     "output_type": "stream",
     "text": [
      "Enter a Number : 40\n"
     ]
    }
   ],
   "source": [
    "n = input(\"Enter a Number :\")\n",
    "n = int(n) # to give input as integer use int()\n"
   ]
  },
  {
   "cell_type": "code",
   "execution_count": 10,
   "id": "a0d04b02-5a1c-4bce-a29d-9d757813341d",
   "metadata": {},
   "outputs": [
    {
     "name": "stdout",
     "output_type": "stream",
     "text": [
      "Even\n"
     ]
    }
   ],
   "source": [
    "if n % 2 ==0:\n",
    "    print(\"Even\")\n",
    "else:\n",
    "    print(\"Odd\")"
   ]
  },
  {
   "cell_type": "code",
   "execution_count": 11,
   "id": "98781bc1-458d-42cb-8468-0df952c73ae1",
   "metadata": {},
   "outputs": [
    {
     "name": "stdout",
     "output_type": "stream",
     "text": [
      "Number is even \n"
     ]
    }
   ],
   "source": [
    "# Alternative way for odd or even\n",
    "message = \"Number is even \" if n % 2 ==0 else \"Number is Odd\" # This is using Ternary Operator\n",
    "print(message)"
   ]
  },
  {
   "cell_type": "code",
   "execution_count": 12,
   "id": "a5f8ba44-6d3a-40b8-a52c-7daf85b14e9d",
   "metadata": {},
   "outputs": [
    {
     "name": "stdin",
     "output_type": "stream",
     "text": [
      "Enter a dish name : pasta\n"
     ]
    },
    {
     "name": "stdout",
     "output_type": "stream",
     "text": [
      "pasta is Itatian\n"
     ]
    }
   ],
   "source": [
    "# If .... Elif .... Else \n",
    "\n",
    "indian = [\"samosa\", \"daal\", \"naan\"]\n",
    "chinese = [\"egg roll\", \"pot sticker\", \"fried rice\"]\n",
    "italian = [\"pizza\", \"pasta\", \"risotto\"]\n",
    "\n",
    "dish = input(\"Enter a dish name :\")\n",
    "if dish in indian:\n",
    "    print(f\"{dish} is indian\")\n",
    "elif dish in chinese:\n",
    "    print(f\"{dish} is Chinese\")\n",
    "elif dish in italian:\n",
    "    print(f\"{dish} is Itatian\")\n",
    "else:\n",
    "    print(\"I Don't know which Cuisine is this\")\n"
   ]
  },
  {
   "cell_type": "markdown",
   "id": "ce6de412-1df1-4a62-b5f8-e947cc5c4a83",
   "metadata": {},
   "source": [
    "# If Conditions Excercise"
   ]
  },
  {
   "cell_type": "code",
   "execution_count": 26,
   "id": "c473a1ec-043b-4c13-851a-c8d4890e6936",
   "metadata": {},
   "outputs": [
    {
     "name": "stdin",
     "output_type": "stream",
     "text": [
      "Enter Height :  50\n",
      "Enter Weight :  60\n"
     ]
    },
    {
     "name": "stdout",
     "output_type": "stream",
     "text": [
      "BMI of the person is 0.024\n",
      "Underweight\n"
     ]
    }
   ],
   "source": [
    "#1. Write a program that can tell you your BMI Category.\n",
    "# -> Ask user to enter height\n",
    "\n",
    "# -> Ask user to enter weight\n",
    "\n",
    "# -> Calculate the BMI(Body Mass Index = weight / height 2) and store it in a variable\n",
    "\n",
    "# -> If the BMI is 30 or greater, print “Obesity”\n",
    "\n",
    "# -> If the BMI is in between 25 and 29, print “Overweight”\n",
    "\n",
    "# -> If the BMI is in between 18.5 and 25, print “Normal”\n",
    "\n",
    "# -> If the BMI is less than 18.5, print “Underweight”\n",
    "\n",
    "h = int(input(\"Enter Height : \"))\n",
    "w = int(input(\"Enter Weight : \"))\n",
    "\n",
    "BMI = w/(h**2)\n",
    "print(f\"BMI of the person is {BMI}\")\n",
    "\n",
    "if BMI >= 30:\n",
    "    print(\"Obesity\")\n",
    "elif BMI >=25 and BMI<=29:\n",
    "    print(\"Overweight\")\n",
    "elif BMI >=18.5 and BMI<=25:\n",
    "    print(\"Normal\")\n",
    "elif BMI < 18.5:\n",
    "    print(\"Underweight\")\n",
    "        \n"
   ]
  },
  {
   "cell_type": "code",
   "execution_count": 37,
   "id": "f72854ea-3fdb-4342-b32e-ead27a0521af",
   "metadata": {},
   "outputs": [],
   "source": [
    "# 2.Using the following list of cities per country,\n",
    "\n",
    "#  ​​​​​​India = [\"Mumbai\", \"Bangalore\", \"Chennai\", \"Delhi\"]\n",
    "#  USA = [\"New York\",\"Chicago\",\"Las Vegas\", \"San Francisco\"]\n",
    "#  UK = [\"London\", \"Manchester\", \"Liverpool\", \"Nottingham\"]\n",
    "\n",
    "#     Write a program that asks the user to enter a city name, and it should tell which country the city belongs to\n",
    "\n",
    "#     Write a program that asks users to enter two cities, and it tells you if they both are in the same country or nor />\n",
    "#         For example:\n",
    "#         If I enter Mumbai and Chennai, it will print \"Both cities are in India\" but if I enter Mumbai and New York it should print \"They don't belong to the same country\"\n",
    "\n",
    "India = [\"Mumbai\" , \"Bangalore\", \"Chennai\" , \" Delhi\"]\n",
    "USA = [\"New York\",\"Chicago\",\"Las Vegas\", \"San Francisco\"]\n",
    "UK = [\"London\", \"Manchester\", \"Liverpool\", \"Nottingham\"]\n",
    "\n"
   ]
  },
  {
   "cell_type": "code",
   "execution_count": 39,
   "id": "7fe73d0b-618e-4d28-9f8f-e891d35ec0ec",
   "metadata": {},
   "outputs": [
    {
     "name": "stdin",
     "output_type": "stream",
     "text": [
      "Enter a City Name :  Chicago\n"
     ]
    },
    {
     "name": "stdout",
     "output_type": "stream",
     "text": [
      "Chicago is in USA\n"
     ]
    }
   ],
   "source": [
    "city = input(\"Enter a City Name : \")\n",
    "\n",
    "if city in India:\n",
    "    print (f\"{city} is in India\")\n",
    "elif city in USA:\n",
    "    print (f\"{city} is in USA\")\n",
    "elif city in UK:\n",
    "    print (f\"{city} is in UK\")\n",
    "else:\n",
    "    print(\"City Dosent belong to any country \")"
   ]
  },
  {
   "cell_type": "code",
   "execution_count": 1,
   "id": "8b363d59-e28c-4434-b330-b473c272d4a1",
   "metadata": {},
   "outputs": [
    {
     "name": "stdin",
     "output_type": "stream",
     "text": [
      "Enter 2 Cities :  Delhi Chennai\n"
     ]
    },
    {
     "name": "stdout",
     "output_type": "stream",
     "text": [
      "Delhi Chennai\n",
      "Both the Cities are in India\n"
     ]
    }
   ],
   "source": [
    "India = [\"Mumbai\", \"Bangalore\", \"Chennai\", \" Delhi\"]\n",
    "USA = [\"New York\", \"Chicago\", \"Las Vegas\", \"San Francisco\"]\n",
    "UK = [\"London\", \"Manchester\", \"Liverpool\", \"Nottingham\"]\n",
    "\n",
    "city_one, city_two = input(\"Enter 2 Cities : \").split(\" \")\n",
    "print(city_one, city_two)\n",
    "\n",
    "if city_one and city_two in India:\n",
    "    print(\"Both the Cities are in India\")\n",
    "elif city_one and city_two in USA:\n",
    "    print(\"Both the Cities are in USA\")\n",
    "elif city_one and city_two in UK:\n",
    "    print(\"Both the Cities are in UK\")\n",
    "else:\n",
    "    print(\"They Don't belong to the same country\")"
   ]
  },
  {
   "cell_type": "code",
   "execution_count": null,
   "id": "229ecc8f-6098-4d38-8cd2-8e2b857c0151",
   "metadata": {},
   "outputs": [],
   "source": []
  }
 ],
 "metadata": {
  "kernelspec": {
   "display_name": "Python 3 (ipykernel)",
   "language": "python",
   "name": "python3"
  },
  "language_info": {
   "codemirror_mode": {
    "name": "ipython",
    "version": 3
   },
   "file_extension": ".py",
   "mimetype": "text/x-python",
   "name": "python",
   "nbconvert_exporter": "python",
   "pygments_lexer": "ipython3",
   "version": "3.8.10"
  }
 },
 "nbformat": 4,
 "nbformat_minor": 5
}
