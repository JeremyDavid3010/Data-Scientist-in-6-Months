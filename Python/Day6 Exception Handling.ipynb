{
 "cells": [
  {
   "cell_type": "markdown",
   "id": "0c010df6-2fc8-4c4a-992f-ef5456322ed0",
   "metadata": {},
   "source": [
    "# Day 6 Exception Handling"
   ]
  },
  {
   "cell_type": "code",
   "execution_count": 1,
   "id": "ba9bd18f-aade-4f6f-8611-9307f84faadc",
   "metadata": {},
   "outputs": [
    {
     "ename": "ZeroDivisionError",
     "evalue": "division by zero",
     "output_type": "error",
     "traceback": [
      "\u001b[1;31m---------------------------------------------------------------------------\u001b[0m",
      "\u001b[1;31mZeroDivisionError\u001b[0m                         Traceback (most recent call last)",
      "Cell \u001b[1;32mIn[1], line 1\u001b[0m\n\u001b[1;32m----> 1\u001b[0m \u001b[38;5;241;43m1\u001b[39;49m\u001b[38;5;241;43m/\u001b[39;49m\u001b[38;5;241;43m0\u001b[39;49m\n",
      "\u001b[1;31mZeroDivisionError\u001b[0m: division by zero"
     ]
    }
   ],
   "source": [
    "1/0 # ZeroDivisionError: division by zero - This error is an Exception"
   ]
  },
  {
   "cell_type": "code",
   "execution_count": 5,
   "id": "8b39cf78-8025-4146-ab9e-08cf885385a8",
   "metadata": {},
   "outputs": [
    {
     "name": "stdin",
     "output_type": "stream",
     "text": [
      "Enter Number 1 : 3\n",
      " Enter Number 2  0\n"
     ]
    },
    {
     "name": "stdout",
     "output_type": "stream",
     "text": [
      "Exception occured :  division by zero\n",
      "0\n"
     ]
    }
   ],
   "source": [
    "x= input(\"Enter Number 1 :\")\n",
    "y = input( \" Enter Number 2 \")\n",
    "\n",
    "try:\n",
    "    z = int(x)/int(y) # So when we gave x =5 ; y =0 this threw an exception and stop the code from this line of code\n",
    "except Exception as e: # this code  line is usually used in exception handling ( here it is an generic exception )\n",
    "    print('Exception occured : ', e)\n",
    "    z = 0\n",
    "print(z)"
   ]
  },
  {
   "cell_type": "code",
   "execution_count": null,
   "id": "ed662ca5-5ee8-44fc-a5a0-a3b3a410bfd4",
   "metadata": {},
   "outputs": [],
   "source": [
    "# TO Handle Exception in Python we use \" try: \""
   ]
  },
  {
   "cell_type": "code",
   "execution_count": 7,
   "id": "6418cfa5-e44f-448c-8c08-9dccac5f03a9",
   "metadata": {},
   "outputs": [
    {
     "name": "stdin",
     "output_type": "stream",
     "text": [
      "Enter Number 1 : 6\n",
      " Enter Number 2  3\n"
     ]
    },
    {
     "ename": "TypeError",
     "evalue": "can only concatenate str (not \"int\") to str",
     "output_type": "error",
     "traceback": [
      "\u001b[1;31m---------------------------------------------------------------------------\u001b[0m",
      "\u001b[1;31mTypeError\u001b[0m                                 Traceback (most recent call last)",
      "Cell \u001b[1;32mIn[7], line 6\u001b[0m\n\u001b[0;32m      4\u001b[0m \u001b[38;5;28;01mtry\u001b[39;00m:\n\u001b[0;32m      5\u001b[0m     z \u001b[38;5;241m=\u001b[39m \u001b[38;5;28mint\u001b[39m(x)\u001b[38;5;241m/\u001b[39m\u001b[38;5;28mint\u001b[39m(y) \n\u001b[1;32m----> 6\u001b[0m     a \u001b[38;5;241m=\u001b[39m \u001b[38;5;124;43m'\u001b[39;49m\u001b[38;5;124;43mBaby Yoda \u001b[39;49m\u001b[38;5;124;43m'\u001b[39;49m\u001b[43m \u001b[49m\u001b[38;5;241;43m+\u001b[39;49m\u001b[43m \u001b[49m\u001b[38;5;241;43m56\u001b[39;49m \n\u001b[0;32m      7\u001b[0m \u001b[38;5;28;01mexcept\u001b[39;00m \u001b[38;5;167;01mZeroDivisionError\u001b[39;00m \u001b[38;5;28;01mas\u001b[39;00m e: \u001b[38;5;66;03m# by specifing the exception name we use Specific exception \u001b[39;00m\n\u001b[0;32m      8\u001b[0m     \u001b[38;5;66;03m#( so this will run only for ZeroDivisionError Exception error only )\u001b[39;00m\n\u001b[0;32m      9\u001b[0m     \u001b[38;5;28mprint\u001b[39m(\u001b[38;5;124m'\u001b[39m\u001b[38;5;124mException occured : \u001b[39m\u001b[38;5;124m'\u001b[39m, e)\n",
      "\u001b[1;31mTypeError\u001b[0m: can only concatenate str (not \"int\") to str"
     ]
    }
   ],
   "source": [
    "x= input(\"Enter Number 1 :\")\n",
    "y = input( \" Enter Number 2 \")\n",
    "\n",
    "try:\n",
    "    z = int(x)/int(y) \n",
    "    a = 'Baby Yoda ' + 56  # For this line is shows an exception because we didnt handle it using exception handling\n",
    "except ZeroDivisionError as e: # by specifing the exception name we use Specific exception \n",
    "    #( so this will run only for ZeroDivisionError Exception error only )\n",
    "    print('Exception occured : ', e)\n",
    "    z = 0\n",
    "print(z)"
   ]
  },
  {
   "cell_type": "code",
   "execution_count": 9,
   "id": "3c66bc1d-4059-48fb-a47a-a89eccdd4b7c",
   "metadata": {},
   "outputs": [
    {
     "name": "stdin",
     "output_type": "stream",
     "text": [
      "Enter Number 1 : 4\n",
      " Enter Number 2  2\n"
     ]
    },
    {
     "name": "stdout",
     "output_type": "stream",
     "text": [
      "Exception Occured :  can only concatenate str (not \"int\") to str\n",
      "2.0\n"
     ]
    }
   ],
   "source": [
    "x= input(\"Enter Number 1 :\")\n",
    "y = input( \" Enter Number 2 \")\n",
    "\n",
    "try:\n",
    "    z = int(x)/int(y) \n",
    "    a = 'Baby Yoda ' + 56  \n",
    "except ZeroDivisionError as e: \n",
    "    print('Exception occured : ', e)\n",
    "    z = 0\n",
    "\n",
    "except TypeError as t:\n",
    "    print(\"Exception Occured : \" , t)\n",
    "print(z) "
   ]
  },
  {
   "cell_type": "code",
   "execution_count": null,
   "id": "fbf7bd21-cc37-4bfb-bbff-c2795bcfe2fa",
   "metadata": {},
   "outputs": [],
   "source": [
    "# # the Primary reason of exception handling is there might be an set of code which is good and essential\n",
    "# after the code that causes exception , so we use exception handling for that piece of code which will run all the \n",
    "# code after that excepted code \n",
    "\n",
    "# for eg:\n",
    "#         on the previous code , a = 'Baby Yoda ' + 56 threw an exception of since we used exception handling \n",
    "# ie.,except TypeError as t:\n",
    "#     print(\"Exception Occured : \" , t)\n",
    "\n",
    "# it gave the output for divison at the end of the code"
   ]
  },
  {
   "cell_type": "code",
   "execution_count": 2,
   "id": "0a04d8b7-9806-46ab-a559-33db884f0a60",
   "metadata": {},
   "outputs": [],
   "source": [
    "except Exception as e: # Generic Exception\n",
    "\n",
    "except ZeroDivisionError as e:  # Specific Exception for ZeroDivisionError\n",
    "\n",
    "# # There are - Built in Exceptions also"
   ]
  },
  {
   "cell_type": "markdown",
   "id": "b0756896-24d9-483a-84f7-f6f4f4bce656",
   "metadata": {},
   "source": [
    "# Day 6 Exception Handling Excercise"
   ]
  },
  {
   "cell_type": "code",
   "execution_count": 12,
   "id": "af9fe401-91a2-4190-be8f-cbb6b94bfc35",
   "metadata": {},
   "outputs": [
    {
     "name": "stdin",
     "output_type": "stream",
     "text": [
      " 1 2 3 4 5 6 7 8 9\n"
     ]
    }
   ],
   "source": [
    "#1. You have the following python code\n",
    "lst = [int(x) for x in input().split()]\n",
    "\n"
   ]
  },
  {
   "cell_type": "code",
   "execution_count": 15,
   "id": "b1c54460-8a87-49ff-9ca1-6076cef4b63d",
   "metadata": {},
   "outputs": [
    {
     "name": "stdin",
     "output_type": "stream",
     "text": [
      "Enter Index:  10\n"
     ]
    },
    {
     "name": "stdout",
     "output_type": "stream",
     "text": [
      "Exception Occured :  list index out of range\n"
     ]
    }
   ],
   "source": [
    "try:\n",
    "    i = int(input(\"Enter Index: \"))\n",
    "    print(lst[i])\n",
    "# Use Exception Handling to handle the exception which will occur in this program   \n",
    "except Exception as e:\n",
    "    print(\"Exception Occured : \",e)"
   ]
  },
  {
   "cell_type": "code",
   "execution_count": null,
   "id": "0fd87c79-319e-4c79-ad70-c8e19de6532f",
   "metadata": {},
   "outputs": [],
   "source": [
    "# 2. You have certain employee records as a list of dictionaries. The dictionary contains the following information.\n",
    "\n",
    "# <pre>\n",
    "# Employee = {\"id\": id, \"first_name\": fname, \"middle_name\": mname, \"last_name\": lname}\n",
    "\n",
    "# <p dir=\"ltr\" role=\"presentation\">You are using this code to print the full name of each employee:</p>\n",
    "\n",
    "# <pre>\n",
    "# for employee in employees: full_name = employee['first_name'] + employee['middle_name'] + employee['last_name'] print(full_name)\n",
    "\n",
    "# <p dir=\"ltr\" role=\"presentation\">But some employees don&rsquo;t have a middle_name, so the `middle_name` key will not be present in the dictionary. Use Exception handling to correctly print the full names of your employees.<br />\n",
    "# &nbsp;</p>\n",
    "# </li>"
   ]
  },
  {
   "cell_type": "code",
   "execution_count": 17,
   "id": "84dc84ca-df4c-463e-b005-d2dea30714a9",
   "metadata": {},
   "outputs": [],
   "source": [
    "Employee = [\n",
    "    { \"id\": 1,\"first_name\": \"Rubin\",\"last_name\":\"Ebenezar\" },\n",
    "    { \"id\": 2,\"first_name\": \"Jeremy\",\"middle_name\": \"David\",\"last_name\": \"Christopher\" },\n",
    "    { \"id\": 3,\"first_name\": \"Jerome\",\"last_name\": \"Jason\" }\n",
    "]"
   ]
  },
  {
   "cell_type": "code",
   "execution_count": 18,
   "id": "5a358fc5-f029-49f2-8e08-3cb39cb99527",
   "metadata": {},
   "outputs": [
    {
     "ename": "NameError",
     "evalue": "name 'employees' is not defined",
     "output_type": "error",
     "traceback": [
      "\u001b[1;31m---------------------------------------------------------------------------\u001b[0m",
      "\u001b[1;31mNameError\u001b[0m                                 Traceback (most recent call last)",
      "Cell \u001b[1;32mIn[18], line 1\u001b[0m\n\u001b[1;32m----> 1\u001b[0m \u001b[38;5;28;01mfor\u001b[39;00m employee \u001b[38;5;129;01min\u001b[39;00m \u001b[43memployees\u001b[49m:\n\u001b[0;32m      2\u001b[0m     full_name \u001b[38;5;241m=\u001b[39m employee[\u001b[38;5;124m'\u001b[39m\u001b[38;5;124mfirst_name\u001b[39m\u001b[38;5;124m'\u001b[39m] \u001b[38;5;241m+\u001b[39m employee[\u001b[38;5;124m'\u001b[39m\u001b[38;5;124mmiddle_name\u001b[39m\u001b[38;5;124m'\u001b[39m] \u001b[38;5;241m+\u001b[39m employee[\u001b[38;5;124m'\u001b[39m\u001b[38;5;124mlast_name\u001b[39m\u001b[38;5;124m'\u001b[39m] \n\u001b[0;32m      3\u001b[0m     \u001b[38;5;28mprint\u001b[39m(full_name)\n",
      "\u001b[1;31mNameError\u001b[0m: name 'employees' is not defined"
     ]
    }
   ],
   "source": [
    "for employee in employees:\n",
    "    full_name = employee['first_name'] + employee['middle_name'] + employee['last_name'] \n",
    "    print(full_name)"
   ]
  },
  {
   "cell_type": "code",
   "execution_count": 21,
   "id": "b871bbdb-73e9-44b1-aade-8dc6481020a0",
   "metadata": {},
   "outputs": [
    {
     "name": "stdout",
     "output_type": "stream",
     "text": [
      "Rubin Ebenezar\n",
      "JeremyDavidChristopher\n",
      "Jerome Jason\n"
     ]
    }
   ],
   "source": [
    "for employee in Employee:\n",
    "    try:\n",
    "        full_name = employee['first_name'] + employee['middle_name'] + employee['last_name']\n",
    "    except:\n",
    "        full_name = employee['first_name'] +\" \" +employee['last_name'] \n",
    "    finally:\n",
    "        print(full_name)"
   ]
  },
  {
   "cell_type": "code",
   "execution_count": null,
   "id": "d0259a3d-b7d1-4ca5-a39f-6a66d0b3aaea",
   "metadata": {},
   "outputs": [],
   "source": []
  }
 ],
 "metadata": {
  "kernelspec": {
   "display_name": "Python 3 (ipykernel)",
   "language": "python",
   "name": "python3"
  },
  "language_info": {
   "codemirror_mode": {
    "name": "ipython",
    "version": 3
   },
   "file_extension": ".py",
   "mimetype": "text/x-python",
   "name": "python",
   "nbconvert_exporter": "python",
   "pygments_lexer": "ipython3",
   "version": "3.8.10"
  }
 },
 "nbformat": 4,
 "nbformat_minor": 5
}
